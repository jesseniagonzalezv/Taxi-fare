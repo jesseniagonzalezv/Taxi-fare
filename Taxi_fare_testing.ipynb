{
 "cells": [
  {
   "cell_type": "code",
   "execution_count": 1,
   "metadata": {
    "colab": {},
    "colab_type": "code",
    "id": "KzG9xsBJ_HgE"
   },
   "outputs": [],
   "source": [
    "%matplotlib inline\n",
    "%reload_ext autoreload\n",
    "%autoreload 2 \n"
   ]
  },
  {
   "cell_type": "code",
   "execution_count": null,
   "metadata": {
    "colab": {},
    "colab_type": "code",
    "id": "zxABkmrh_NN2"
   },
   "outputs": [],
   "source": [
    "from google.colab import drive\n",
    "drive.mount('/content/drive')"
   ]
  },
  {
   "cell_type": "code",
   "execution_count": 2,
   "metadata": {
    "colab": {},
    "colab_type": "code",
    "id": "6sx9mTzs_HgM"
   },
   "outputs": [],
   "source": [
    "import pandas as pd \n",
    "import dask.dataframe as dd  #http://pythondata.com/dask-large-csv-python/\n",
    "import os\n",
    "from tqdm import tqdm\n",
    "import numpy as np\n",
    "\n",
    "TRAIN_PATH = 'train.csv'\n",
    "#TRAIN_PATH = 'drive/My Drive/Colab Notebooks/deep_learning/train.csv'"
   ]
  },
  {
   "cell_type": "code",
   "execution_count": 3,
   "metadata": {
    "colab": {},
    "colab_type": "code",
    "id": "6wP2oLsu_HgQ"
   },
   "outputs": [
    {
     "name": "stdout",
     "output_type": "stream",
     "text": [
      "Exact number of rows: 55423857\n",
      "CPU times: user 7.76 s, sys: 3.69 s, total: 11.4 s\n",
      "Wall time: 11.6 s\n"
     ]
    }
   ],
   "source": [
    "%%time\n",
    "with open(TRAIN_PATH) as file:\n",
    "    n_rows = len(file.readlines())\n",
    "\n",
    "print (f'Exact number of rows: {n_rows}')\n"
   ]
  },
  {
   "cell_type": "markdown",
   "metadata": {
    "colab_type": "text",
    "id": "svXWjHyp_HgT"
   },
   "source": [
    "## Functions"
   ]
  },
  {
   "cell_type": "code",
   "execution_count": 4,
   "metadata": {
    "colab": {},
    "colab_type": "code",
    "id": "lPZN8JP2_HgU"
   },
   "outputs": [],
   "source": [
    "def clean(df):\n",
    "    print('No of records b4 fare amount filter: ',len(df))\n",
    "    df = df[df.fare_amount >= 0]\n",
    "    print('No of records after fare amount filter ',  len(df))\n",
    "    print('No of records b4 passenger count filter ',  len(df))\n",
    "    df= df[df.passenger_count > 0]\n",
    "    print('No of records after passenger count filter ',  len(df))\n",
    "        # Remove inconsistent values\n",
    "    print('No of records b4 same point filter ',  len(df))\n",
    "    df = df[(df['dropoff_longitude'] != df['pickup_longitude'])]\n",
    "    df = df[(df['dropoff_latitude'] != df['pickup_latitude'])]\n",
    "    print('No of records after same point filter ',  len(df))\n",
    "    \n",
    "def add_travel_vector_features(df): #coordinate fatures v1\n",
    "    df['abs_diff_longitude'] = (df.dropoff_longitude - df.pickup_longitude).abs()\n",
    "    df['abs_diff_latitude'] = (df.dropoff_latitude - df.pickup_latitude).abs()\n",
    "\n",
    "def add_coordinate_features(df):\n",
    "    lat1 = df['pickup_latitude']\n",
    "    lat2 = df['dropoff_latitude']\n",
    "    lon1 = df['pickup_longitude']\n",
    "    lon2 = df['dropoff_longitude']\n",
    "    \n",
    "    # Add new features\n",
    "    df['latdiff'] = (lat1 - lat2)\n",
    "    df['londiff'] = (lon1 - lon2)\n",
    "\n",
    "def late_night (row):\n",
    "    if (row['hour'] <= 6) or (row['hour'] >= 20):\n",
    "        return 1\n",
    "    else:\n",
    "        return 0\n",
    "\n",
    "\n",
    "def night (row):\n",
    "    if ((row['hour'] <= 20) and (row['hour'] >= 16)) and (row['weekday'] < 5):\n",
    "        return 1\n",
    "    else:\n",
    "        return 0\n",
    "    \n",
    "def manhattan(pickup_lat, pickup_long, dropoff_lat, dropoff_long):\n",
    "    return np.abs(dropoff_lat - pickup_lat) + np.abs(dropoff_long - pickup_long)\n",
    "\n",
    "\n",
    "def add_time_features(df):\n",
    "    df['pickup_datetime'] =  pd.to_datetime(df['pickup_datetime'], format='%Y-%m-%d %H:%M:%S %Z')\n",
    "    df['year'] = df['pickup_datetime'].apply(lambda x: x.year)\n",
    "    df['month'] = df['pickup_datetime'].apply(lambda x: x.month)\n",
    "    df['day'] = df['pickup_datetime'].apply(lambda x: x.day)\n",
    "    df['hour'] = df['pickup_datetime'].apply(lambda x: x.hour)\n",
    "    df['weekday'] = df['pickup_datetime'].apply(lambda x: x.weekday())\n",
    "    df['pickup_datetime'] =  df['pickup_datetime'].apply(lambda x: str(x))\n",
    "    df['night'] = df.apply (lambda x: night(x), axis=1)\n",
    "    df['late_night'] = df.apply (lambda x: late_night(x), axis=1)\n",
    "    # Drop 'pickup_datetime' as we won't need it anymore\n",
    "    df = df.drop('pickup_datetime', axis=1)\n",
    "    \n",
    "    return df\n",
    "\n",
    "\n",
    "def add_distances_features(df):\n",
    "    ny = (-74.0063889, 40.7141667)\n",
    "    jfk = (-73.7822222222, 40.6441666667)\n",
    "    ewr = (-74.175, 40.69)\n",
    "    lgr = (-73.87, 40.77)\n",
    "    \n",
    "    lat1 = df['pickup_latitude']\n",
    "    lat2 = df['dropoff_latitude']\n",
    "    lon1 = df['pickup_longitude']\n",
    "    lon2 = df['dropoff_longitude']\n",
    "    \n",
    "    df['euclidean'] = (df['latdiff'] ** 2 + df['londiff'] ** 2) ** 0.5\n",
    "    df['manhattan'] = manhattan(lat1, lon1, lat2, lon2)\n",
    "    \n",
    "    df['downtown_pickup_distance'] = manhattan(ny[1], ny[0], lat1, lon1)\n",
    "    df['downtown_dropoff_distance'] = manhattan(ny[1], ny[0], lat2, lon2)\n",
    "    df['jfk_pickup_distance'] = manhattan(jfk[1], jfk[0], lat1, lon1)\n",
    "    df['jfk_dropoff_distance'] = manhattan(jfk[1], jfk[0], lat2, lon2)\n",
    "    df['ewr_pickup_distance'] = manhattan(ewr[1], ewr[0], lat1, lon1)\n",
    "    df['ewr_dropoff_distance'] = manhattan(ewr[1], ewr[0], lat2, lon2)\n",
    "    df['lgr_pickup_distance'] = manhattan(lgr[1], lgr[0], lat1, lon1)\n",
    "    df['lgr_dropoff_distance'] = manhattan(lgr[1], lgr[0], lat2, lon2)\n",
    "    \n",
    "    df['latdiff']= abs(df['latdiff'])\n",
    "    df['londiff']= abs(df['londiff'])\n",
    "    return df\n",
    "\n",
    "traintypes = {'fare_amount': 'float32',\n",
    "     'pickup_datetime': 'str', \n",
    "     'pickup_longitude': 'float32',\n",
    "     'pickup_latitude': 'float32',\n",
    "     'dropoff_longitude': 'float32',\n",
    "     'dropoff_latitude': 'float32',\n",
    "     'passenger_count': 'uint8'}\n",
    "\n",
    "cols = list(traintypes.keys())\n",
    "\n",
    "\n",
    "#Based on the code of https://www.kaggle.com/akeshari/new-york-taxi-fare-prediction\n"
   ]
  },
  {
   "cell_type": "markdown",
   "metadata": {
    "colab_type": "text",
    "id": "4vktS_jw_HgW"
   },
   "source": [
    "## Read data"
   ]
  },
  {
   "cell_type": "markdown",
   "metadata": {
    "colab_type": "text",
    "id": "Euo9m9lQ_HgX"
   },
   "source": [
    "### Read with dask\n"
   ]
  },
  {
   "cell_type": "code",
   "execution_count": null,
   "metadata": {
    "colab": {},
    "colab_type": "code",
    "id": "fr6zaZ8U_HgX",
    "outputId": "b58cfbb2-f1da-44c6-a138-ecc813c6327b"
   },
   "outputs": [
    {
     "name": "stdout",
     "output_type": "stream",
     "text": [
      "CPU times: user 44.3 s, sys: 175 ms, total: 44.5 s\n",
      "Wall time: 44.5 s\n"
     ]
    },
    {
     "data": {
      "text/html": [
       "<div>\n",
       "<style scoped>\n",
       "    .dataframe tbody tr th:only-of-type {\n",
       "        vertical-align: middle;\n",
       "    }\n",
       "\n",
       "    .dataframe tbody tr th {\n",
       "        vertical-align: top;\n",
       "    }\n",
       "\n",
       "    .dataframe thead th {\n",
       "        text-align: right;\n",
       "    }\n",
       "</style>\n",
       "<table border=\"1\" class=\"dataframe\">\n",
       "  <thead>\n",
       "    <tr style=\"text-align: right;\">\n",
       "      <th></th>\n",
       "      <th>fare_amount</th>\n",
       "      <th>pickup_datetime</th>\n",
       "      <th>pickup_longitude</th>\n",
       "      <th>pickup_latitude</th>\n",
       "      <th>dropoff_longitude</th>\n",
       "      <th>dropoff_latitude</th>\n",
       "      <th>passenger_count</th>\n",
       "    </tr>\n",
       "  </thead>\n",
       "  <tbody>\n",
       "    <tr>\n",
       "      <td>0</td>\n",
       "      <td>4.5</td>\n",
       "      <td>2009-06-15 17:26:21+00:00</td>\n",
       "      <td>-73.844315</td>\n",
       "      <td>40.721317</td>\n",
       "      <td>-73.841614</td>\n",
       "      <td>40.712276</td>\n",
       "      <td>1</td>\n",
       "    </tr>\n",
       "    <tr>\n",
       "      <td>1</td>\n",
       "      <td>16.9</td>\n",
       "      <td>2010-01-05 16:52:16+00:00</td>\n",
       "      <td>-74.016045</td>\n",
       "      <td>40.711304</td>\n",
       "      <td>-73.979271</td>\n",
       "      <td>40.782005</td>\n",
       "      <td>1</td>\n",
       "    </tr>\n",
       "    <tr>\n",
       "      <td>2</td>\n",
       "      <td>5.7</td>\n",
       "      <td>2011-08-18 00:35:00+00:00</td>\n",
       "      <td>-73.982735</td>\n",
       "      <td>40.761269</td>\n",
       "      <td>-73.991241</td>\n",
       "      <td>40.750561</td>\n",
       "      <td>2</td>\n",
       "    </tr>\n",
       "    <tr>\n",
       "      <td>3</td>\n",
       "      <td>7.7</td>\n",
       "      <td>2012-04-21 04:30:42+00:00</td>\n",
       "      <td>-73.987129</td>\n",
       "      <td>40.733143</td>\n",
       "      <td>-73.991570</td>\n",
       "      <td>40.758091</td>\n",
       "      <td>1</td>\n",
       "    </tr>\n",
       "    <tr>\n",
       "      <td>4</td>\n",
       "      <td>5.3</td>\n",
       "      <td>2010-03-09 07:51:00+00:00</td>\n",
       "      <td>-73.968094</td>\n",
       "      <td>40.768009</td>\n",
       "      <td>-73.956657</td>\n",
       "      <td>40.783764</td>\n",
       "      <td>1</td>\n",
       "    </tr>\n",
       "  </tbody>\n",
       "</table>\n",
       "</div>"
      ],
      "text/plain": [
       "   fare_amount           pickup_datetime  pickup_longitude  pickup_latitude  \\\n",
       "0          4.5 2009-06-15 17:26:21+00:00        -73.844315        40.721317   \n",
       "1         16.9 2010-01-05 16:52:16+00:00        -74.016045        40.711304   \n",
       "2          5.7 2011-08-18 00:35:00+00:00        -73.982735        40.761269   \n",
       "3          7.7 2012-04-21 04:30:42+00:00        -73.987129        40.733143   \n",
       "4          5.3 2010-03-09 07:51:00+00:00        -73.968094        40.768009   \n",
       "\n",
       "   dropoff_longitude  dropoff_latitude  passenger_count  \n",
       "0         -73.841614         40.712276                1  \n",
       "1         -73.979271         40.782005                1  \n",
       "2         -73.991241         40.750561                2  \n",
       "3         -73.991570         40.758091                1  \n",
       "4         -73.956657         40.783764                1  "
      ]
     },
     "execution_count": 5,
     "metadata": {
      "tags": []
     },
     "output_type": "execute_result"
    }
   ],
   "source": [
    "%%time\n",
    "\n",
    "df_train = dd.read_csv(TRAIN_PATH, usecols=cols, dtype=traintypes,parse_dates=[\"pickup_datetime\"])\n",
    " # parse_dates keyword to parse the timestamp column to be a datetime. This will make things more efficient in the future. Notice that the dtype of the timestamp column has changed from object to datetime64[ns].\n",
    "#ddf.info()\n",
    "df_train.head()\n"
   ]
  },
  {
   "cell_type": "markdown",
   "metadata": {
    "colab_type": "text",
    "id": "HpXBik-q_Hgd"
   },
   "source": [
    "### Read with pandas\n"
   ]
  },
  {
   "cell_type": "code",
   "execution_count": 5,
   "metadata": {
    "colab": {
     "base_uri": "https://localhost:8080/",
     "height": 52
    },
    "colab_type": "code",
    "id": "2NoJvZdM_Hgf",
    "outputId": "bea93426-dab7-4c5f-9f02-0f617830364b"
   },
   "outputs": [
    {
     "name": "stdout",
     "output_type": "stream",
     "text": [
      "CPU times: user 1min 12s, sys: 99.4 ms, total: 1min 12s\n",
      "Wall time: 1min 12s\n"
     ]
    },
    {
     "data": {
      "text/html": [
       "<div>\n",
       "<style scoped>\n",
       "    .dataframe tbody tr th:only-of-type {\n",
       "        vertical-align: middle;\n",
       "    }\n",
       "\n",
       "    .dataframe tbody tr th {\n",
       "        vertical-align: top;\n",
       "    }\n",
       "\n",
       "    .dataframe thead th {\n",
       "        text-align: right;\n",
       "    }\n",
       "</style>\n",
       "<table border=\"1\" class=\"dataframe\">\n",
       "  <thead>\n",
       "    <tr style=\"text-align: right;\">\n",
       "      <th></th>\n",
       "      <th>fare_amount</th>\n",
       "      <th>pickup_datetime</th>\n",
       "      <th>pickup_longitude</th>\n",
       "      <th>pickup_latitude</th>\n",
       "      <th>dropoff_longitude</th>\n",
       "      <th>dropoff_latitude</th>\n",
       "      <th>passenger_count</th>\n",
       "    </tr>\n",
       "  </thead>\n",
       "  <tbody>\n",
       "    <tr>\n",
       "      <td>0</td>\n",
       "      <td>4.5</td>\n",
       "      <td>2009-06-15 17:26:21+00:00</td>\n",
       "      <td>-73.844315</td>\n",
       "      <td>40.721317</td>\n",
       "      <td>-73.841614</td>\n",
       "      <td>40.712276</td>\n",
       "      <td>1</td>\n",
       "    </tr>\n",
       "    <tr>\n",
       "      <td>1</td>\n",
       "      <td>16.9</td>\n",
       "      <td>2010-01-05 16:52:16+00:00</td>\n",
       "      <td>-74.016045</td>\n",
       "      <td>40.711304</td>\n",
       "      <td>-73.979271</td>\n",
       "      <td>40.782005</td>\n",
       "      <td>1</td>\n",
       "    </tr>\n",
       "    <tr>\n",
       "      <td>2</td>\n",
       "      <td>5.7</td>\n",
       "      <td>2011-08-18 00:35:00+00:00</td>\n",
       "      <td>-73.982735</td>\n",
       "      <td>40.761269</td>\n",
       "      <td>-73.991241</td>\n",
       "      <td>40.750561</td>\n",
       "      <td>2</td>\n",
       "    </tr>\n",
       "    <tr>\n",
       "      <td>3</td>\n",
       "      <td>7.7</td>\n",
       "      <td>2012-04-21 04:30:42+00:00</td>\n",
       "      <td>-73.987129</td>\n",
       "      <td>40.733143</td>\n",
       "      <td>-73.991570</td>\n",
       "      <td>40.758091</td>\n",
       "      <td>1</td>\n",
       "    </tr>\n",
       "    <tr>\n",
       "      <td>4</td>\n",
       "      <td>5.3</td>\n",
       "      <td>2010-03-09 07:51:00+00:00</td>\n",
       "      <td>-73.968094</td>\n",
       "      <td>40.768009</td>\n",
       "      <td>-73.956657</td>\n",
       "      <td>40.783764</td>\n",
       "      <td>1</td>\n",
       "    </tr>\n",
       "  </tbody>\n",
       "</table>\n",
       "</div>"
      ],
      "text/plain": [
       "   fare_amount           pickup_datetime  pickup_longitude  pickup_latitude  \\\n",
       "0          4.5 2009-06-15 17:26:21+00:00        -73.844315        40.721317   \n",
       "1         16.9 2010-01-05 16:52:16+00:00        -74.016045        40.711304   \n",
       "2          5.7 2011-08-18 00:35:00+00:00        -73.982735        40.761269   \n",
       "3          7.7 2012-04-21 04:30:42+00:00        -73.987129        40.733143   \n",
       "4          5.3 2010-03-09 07:51:00+00:00        -73.968094        40.768009   \n",
       "\n",
       "   dropoff_longitude  dropoff_latitude  passenger_count  \n",
       "0         -73.841614         40.712276                1  \n",
       "1         -73.979271         40.782005                1  \n",
       "2         -73.991241         40.750561                2  \n",
       "3         -73.991570         40.758091                1  \n",
       "4         -73.956657         40.783764                1  "
      ]
     },
     "execution_count": 5,
     "metadata": {},
     "output_type": "execute_result"
    }
   ],
   "source": [
    "%%time\n",
    "#Read sample data \n",
    "df_train =  pd.read_csv(TRAIN_PATH, nrows = 1000000,usecols=cols, dtype=traintypes, parse_dates=[\"pickup_datetime\"])\n",
    "df_train.head()"
   ]
  },
  {
   "cell_type": "code",
   "execution_count": 6,
   "metadata": {
    "colab": {
     "base_uri": "https://localhost:8080/",
     "height": 52
    },
    "colab_type": "code",
    "id": "OGBqj4mP_Hgh",
    "outputId": "ce50db44-40a8-4d53-8201-1a438604d952"
   },
   "outputs": [
    {
     "name": "stdout",
     "output_type": "stream",
     "text": [
      "minimum and maximum longitude -3383.2966 , 2522.2712\n",
      "minimum and maximum latitude  -3116.2854 , 2621.6284\n"
     ]
    }
   ],
   "source": [
    "print('minimum and maximum longitude', min(df_train.pickup_longitude.min(), df_train.dropoff_longitude.min()),',',\n",
    "max(df_train.pickup_longitude.max(), df_train.dropoff_longitude.max()))\n",
    "\n",
    "print('minimum and maximum latitude ',min(df_train.pickup_latitude.min(), df_train.dropoff_latitude.min()),',',\n",
    "max(df_train.pickup_latitude.max(), df_train.dropoff_latitude.max()))\n"
   ]
  },
  {
   "cell_type": "markdown",
   "metadata": {
    "colab_type": "text",
    "id": "-FlP38q3_Hgk"
   },
   "source": [
    "### Call functions"
   ]
  },
  {
   "cell_type": "code",
   "execution_count": 7,
   "metadata": {
    "colab": {
     "base_uri": "https://localhost:8080/",
     "height": 405
    },
    "colab_type": "code",
    "id": "01ywSc8A_Hgl",
    "outputId": "fb77b7aa-db71-496e-c79d-cfd2d9e45109"
   },
   "outputs": [
    {
     "name": "stdout",
     "output_type": "stream",
     "text": [
      "No of records b4 fare amount filter:  1000000\n",
      "No of records after fare amount filter  999962\n",
      "No of records b4 passenger count filter  999962\n",
      "No of records after passenger count filter  996397\n",
      "No of records b4 same point filter  996397\n",
      "No of records after same point filter  966933\n"
     ]
    },
    {
     "data": {
      "text/plain": [
       "<matplotlib.axes._subplots.AxesSubplot at 0x7eff41b743c8>"
      ]
     },
     "execution_count": 7,
     "metadata": {},
     "output_type": "execute_result"
    },
    {
     "data": {
      "image/png": "[encoded data removed]",
      "text/plain": [
       "<Figure size 432x288 with 1 Axes>"
      ]
     },
     "metadata": {
      "needs_background": "light"
     },
     "output_type": "display_data"
    }
   ],
   "source": [
    "clean(df_train)\n",
    "\n",
    "add_coordinate_features(df_train)\n",
    "df_train=add_time_features(df_train)\n",
    "df_train=add_distances_features(df_train)\n",
    "\n",
    "df_train.head(5)\n",
    "df_train.iloc[:2000].plot.scatter('londiff', 'latdiff')"
   ]
  },
  {
   "cell_type": "code",
   "execution_count": 8,
   "metadata": {
    "colab": {
     "base_uri": "https://localhost:8080/",
     "height": 301
    },
    "colab_type": "code",
    "id": "nYmdJ81s_Hgn",
    "outputId": "f188c139-d687-43a2-b2a0-83b37a481800"
   },
   "outputs": [
    {
     "data": {
      "text/plain": [
       "<matplotlib.axes._subplots.AxesSubplot at 0x7eff25c2b080>"
      ]
     },
     "execution_count": 8,
     "metadata": {},
     "output_type": "execute_result"
    },
    {
     "data": {
      "image/png": "[encoded data removed]",
      "text/plain": [
       "<Figure size 432x288 with 1 Axes>"
      ]
     },
     "metadata": {
      "needs_background": "light"
     },
     "output_type": "display_data"
    }
   ],
   "source": [
    "df_train = df_train[(df_train.londiff < 5.0) & (df_train.latdiff < 0.2)]\n",
    "df_train.iloc[:2000].plot.scatter('londiff', 'latdiff')"
   ]
  },
  {
   "cell_type": "code",
   "execution_count": 10,
   "metadata": {},
   "outputs": [
    {
     "data": {
      "text/plain": [
       "<matplotlib.axes._subplots.AxesSubplot at 0x7eff3bdd90b8>"
      ]
     },
     "execution_count": 10,
     "metadata": {},
     "output_type": "execute_result"
    },
    {
     "data": {
      "image/png": "[encoded data removed]",
      "text/plain": [
       "<Figure size 432x288 with 1 Axes>"
      ]
     },
     "metadata": {
      "needs_background": "light"
     },
     "output_type": "display_data"
    }
   ],
   "source": [
    "df_train = df_train[(df_train.pickup_latitude >= 40) & (df_train.pickup_latitude <= 42)]\n",
    "df_train = df_train[(df_train.pickup_longitude >= -75) & (df_train.pickup_longitude <= -73)]\n",
    "df_train = df_train[(df_train.dropoff_latitude >= 40) & (df_train.dropoff_latitude <= 42)]\n",
    "df_train = df_train[(df_train.dropoff_longitude >= -75) & (df_train.dropoff_longitude <= -73)]\n",
    "df_train.iloc[:2000].plot.scatter('londiff', 'latdiff')"
   ]
  },
  {
   "cell_type": "code",
   "execution_count": 11,
   "metadata": {
    "colab": {
     "base_uri": "https://localhost:8080/",
     "height": 222
    },
    "colab_type": "code",
    "id": "8ze9pc9M_Hgq",
    "outputId": "683e6230-4867-49ed-88d1-110518f785ec"
   },
   "outputs": [
    {
     "data": {
      "text/html": [
       "<div>\n",
       "<style scoped>\n",
       "    .dataframe tbody tr th:only-of-type {\n",
       "        vertical-align: middle;\n",
       "    }\n",
       "\n",
       "    .dataframe tbody tr th {\n",
       "        vertical-align: top;\n",
       "    }\n",
       "\n",
       "    .dataframe thead th {\n",
       "        text-align: right;\n",
       "    }\n",
       "</style>\n",
       "<table border=\"1\" class=\"dataframe\">\n",
       "  <thead>\n",
       "    <tr style=\"text-align: right;\">\n",
       "      <th></th>\n",
       "      <th>fare_amount</th>\n",
       "      <th>passenger_count</th>\n",
       "      <th>latdiff</th>\n",
       "      <th>londiff</th>\n",
       "      <th>year</th>\n",
       "      <th>month</th>\n",
       "      <th>day</th>\n",
       "      <th>hour</th>\n",
       "      <th>weekday</th>\n",
       "      <th>night</th>\n",
       "      <th>...</th>\n",
       "      <th>euclidean</th>\n",
       "      <th>manhattan</th>\n",
       "      <th>downtown_pickup_distance</th>\n",
       "      <th>downtown_dropoff_distance</th>\n",
       "      <th>jfk_pickup_distance</th>\n",
       "      <th>jfk_dropoff_distance</th>\n",
       "      <th>ewr_pickup_distance</th>\n",
       "      <th>ewr_dropoff_distance</th>\n",
       "      <th>lgr_pickup_distance</th>\n",
       "      <th>lgr_dropoff_distance</th>\n",
       "    </tr>\n",
       "  </thead>\n",
       "  <tbody>\n",
       "    <tr>\n",
       "      <td>0</td>\n",
       "      <td>4.5</td>\n",
       "      <td>1</td>\n",
       "      <td>0.009041</td>\n",
       "      <td>0.002701</td>\n",
       "      <td>2009</td>\n",
       "      <td>6</td>\n",
       "      <td>15</td>\n",
       "      <td>17</td>\n",
       "      <td>0</td>\n",
       "      <td>1</td>\n",
       "      <td>...</td>\n",
       "      <td>0.009436</td>\n",
       "      <td>0.011742</td>\n",
       "      <td>0.169220</td>\n",
       "      <td>0.166664</td>\n",
       "      <td>0.139248</td>\n",
       "      <td>0.127506</td>\n",
       "      <td>0.362007</td>\n",
       "      <td>0.355667</td>\n",
       "      <td>0.074371</td>\n",
       "      <td>0.086113</td>\n",
       "    </tr>\n",
       "    <tr>\n",
       "      <td>1</td>\n",
       "      <td>16.9</td>\n",
       "      <td>1</td>\n",
       "      <td>0.070702</td>\n",
       "      <td>0.036774</td>\n",
       "      <td>2010</td>\n",
       "      <td>1</td>\n",
       "      <td>5</td>\n",
       "      <td>16</td>\n",
       "      <td>1</td>\n",
       "      <td>1</td>\n",
       "      <td>...</td>\n",
       "      <td>0.079693</td>\n",
       "      <td>0.107475</td>\n",
       "      <td>0.012524</td>\n",
       "      <td>0.094952</td>\n",
       "      <td>0.300964</td>\n",
       "      <td>0.334892</td>\n",
       "      <td>0.180264</td>\n",
       "      <td>0.287739</td>\n",
       "      <td>0.204739</td>\n",
       "      <td>0.121273</td>\n",
       "    </tr>\n",
       "    <tr>\n",
       "      <td>2</td>\n",
       "      <td>5.7</td>\n",
       "      <td>2</td>\n",
       "      <td>0.010708</td>\n",
       "      <td>0.008507</td>\n",
       "      <td>2011</td>\n",
       "      <td>8</td>\n",
       "      <td>18</td>\n",
       "      <td>0</td>\n",
       "      <td>3</td>\n",
       "      <td>0</td>\n",
       "      <td>...</td>\n",
       "      <td>0.013676</td>\n",
       "      <td>0.019215</td>\n",
       "      <td>0.070751</td>\n",
       "      <td>0.051537</td>\n",
       "      <td>0.317619</td>\n",
       "      <td>0.315418</td>\n",
       "      <td>0.263538</td>\n",
       "      <td>0.244324</td>\n",
       "      <td>0.121464</td>\n",
       "      <td>0.140678</td>\n",
       "    </tr>\n",
       "    <tr>\n",
       "      <td>3</td>\n",
       "      <td>7.7</td>\n",
       "      <td>1</td>\n",
       "      <td>0.024948</td>\n",
       "      <td>0.004440</td>\n",
       "      <td>2012</td>\n",
       "      <td>4</td>\n",
       "      <td>21</td>\n",
       "      <td>4</td>\n",
       "      <td>5</td>\n",
       "      <td>0</td>\n",
       "      <td>...</td>\n",
       "      <td>0.025340</td>\n",
       "      <td>0.029388</td>\n",
       "      <td>0.038231</td>\n",
       "      <td>0.058739</td>\n",
       "      <td>0.293888</td>\n",
       "      <td>0.323277</td>\n",
       "      <td>0.231018</td>\n",
       "      <td>0.251526</td>\n",
       "      <td>0.153984</td>\n",
       "      <td>0.133476</td>\n",
       "    </tr>\n",
       "    <tr>\n",
       "      <td>4</td>\n",
       "      <td>5.3</td>\n",
       "      <td>1</td>\n",
       "      <td>0.015755</td>\n",
       "      <td>0.011436</td>\n",
       "      <td>2010</td>\n",
       "      <td>3</td>\n",
       "      <td>9</td>\n",
       "      <td>7</td>\n",
       "      <td>1</td>\n",
       "      <td>0</td>\n",
       "      <td>...</td>\n",
       "      <td>0.019468</td>\n",
       "      <td>0.027191</td>\n",
       "      <td>0.092133</td>\n",
       "      <td>0.119324</td>\n",
       "      <td>0.309719</td>\n",
       "      <td>0.314037</td>\n",
       "      <td>0.284920</td>\n",
       "      <td>0.312111</td>\n",
       "      <td>0.100082</td>\n",
       "      <td>0.100418</td>\n",
       "    </tr>\n",
       "  </tbody>\n",
       "</table>\n",
       "<p>5 rows × 21 columns</p>\n",
       "</div>"
      ],
      "text/plain": [
       "   fare_amount  passenger_count   latdiff   londiff  year  month  day  hour  \\\n",
       "0          4.5                1  0.009041  0.002701  2009      6   15    17   \n",
       "1         16.9                1  0.070702  0.036774  2010      1    5    16   \n",
       "2          5.7                2  0.010708  0.008507  2011      8   18     0   \n",
       "3          7.7                1  0.024948  0.004440  2012      4   21     4   \n",
       "4          5.3                1  0.015755  0.011436  2010      3    9     7   \n",
       "\n",
       "   weekday  night  ...  euclidean  manhattan  downtown_pickup_distance  \\\n",
       "0        0      1  ...   0.009436   0.011742                  0.169220   \n",
       "1        1      1  ...   0.079693   0.107475                  0.012524   \n",
       "2        3      0  ...   0.013676   0.019215                  0.070751   \n",
       "3        5      0  ...   0.025340   0.029388                  0.038231   \n",
       "4        1      0  ...   0.019468   0.027191                  0.092133   \n",
       "\n",
       "   downtown_dropoff_distance  jfk_pickup_distance  jfk_dropoff_distance  \\\n",
       "0                   0.166664             0.139248              0.127506   \n",
       "1                   0.094952             0.300964              0.334892   \n",
       "2                   0.051537             0.317619              0.315418   \n",
       "3                   0.058739             0.293888              0.323277   \n",
       "4                   0.119324             0.309719              0.314037   \n",
       "\n",
       "   ewr_pickup_distance  ewr_dropoff_distance  lgr_pickup_distance  \\\n",
       "0             0.362007              0.355667             0.074371   \n",
       "1             0.180264              0.287739             0.204739   \n",
       "2             0.263538              0.244324             0.121464   \n",
       "3             0.231018              0.251526             0.153984   \n",
       "4             0.284920              0.312111             0.100082   \n",
       "\n",
       "   lgr_dropoff_distance  \n",
       "0              0.086113  \n",
       "1              0.121273  \n",
       "2              0.140678  \n",
       "3              0.133476  \n",
       "4              0.100418  \n",
       "\n",
       "[5 rows x 21 columns]"
      ]
     },
     "execution_count": 11,
     "metadata": {},
     "output_type": "execute_result"
    }
   ],
   "source": [
    "\n",
    "# Drop unwanted columns\n",
    "dropped_columns = ['pickup_longitude', 'pickup_latitude', \n",
    "                   'dropoff_longitude', 'dropoff_latitude']\n",
    "df_train_clean = df_train.drop(dropped_columns, axis=1)\n",
    "\n",
    "# peek data\n",
    "df_train_clean.head(5)\n"
   ]
  },
  {
   "cell_type": "code",
   "execution_count": null,
   "metadata": {},
   "outputs": [],
   "source": []
  },
  {
   "cell_type": "markdown",
   "metadata": {
    "colab_type": "text",
    "id": "kPJxoNFV_Hgv"
   },
   "source": [
    "## Train and test"
   ]
  },
  {
   "cell_type": "code",
   "execution_count": null,
   "metadata": {},
   "outputs": [],
   "source": []
  },
  {
   "cell_type": "code",
   "execution_count": 12,
   "metadata": {
    "colab": {},
    "colab_type": "code",
    "id": "ALqwk_Hk_Hgw"
   },
   "outputs": [],
   "source": [
    "from sklearn.model_selection import train_test_split\n",
    "\n",
    "x_train, x_val= train_test_split(df_train_clean, test_size=0.30, random_state=1)\n",
    "\n",
    "\n",
    "# Get labels\n",
    "y_train = x_train['fare_amount'].values\n",
    "y_val = x_val['fare_amount'].values\n",
    "\n",
    "x_train = x_train.drop(['fare_amount'], axis=1)\n",
    "x_val = x_val.drop(['fare_amount'], axis=1)"
   ]
  },
  {
   "cell_type": "code",
   "execution_count": 13,
   "metadata": {
    "colab": {},
    "colab_type": "code",
    "id": "h3PaqY51_Hgy"
   },
   "outputs": [],
   "source": [
    "import sklearn.preprocessing as preprocessing\n",
    "\n",
    "# Scale data\n",
    "scaler = preprocessing.MinMaxScaler()\n",
    "x_train = scaler.fit_transform(x_train)\n",
    "x_val = scaler.transform(x_val)\n"
   ]
  },
  {
   "cell_type": "markdown",
   "metadata": {},
   "source": [
    "## GradientBoostingRegressor"
   ]
  },
  {
   "cell_type": "code",
   "execution_count": 14,
   "metadata": {},
   "outputs": [],
   "source": [
    "from sklearn import ensemble\n",
    "clf = ensemble.GradientBoostingRegressor(n_estimators =500, max_depth=5, min_samples_split=2,learning_rate=0.01, loss='ls')"
   ]
  },
  {
   "cell_type": "code",
   "execution_count": 15,
   "metadata": {},
   "outputs": [
    {
     "data": {
      "text/plain": [
       "GradientBoostingRegressor(alpha=0.9, criterion='friedman_mse', init=None,\n",
       "                          learning_rate=0.01, loss='ls', max_depth=5,\n",
       "                          max_features=None, max_leaf_nodes=None,\n",
       "                          min_impurity_decrease=0.0, min_impurity_split=None,\n",
       "                          min_samples_leaf=1, min_samples_split=2,\n",
       "                          min_weight_fraction_leaf=0.0, n_estimators=500,\n",
       "                          n_iter_no_change=None, presort='auto',\n",
       "                          random_state=None, subsample=1.0, tol=0.0001,\n",
       "                          validation_fraction=0.1, verbose=0, warm_start=False)"
      ]
     },
     "execution_count": 15,
     "metadata": {},
     "output_type": "execute_result"
    }
   ],
   "source": [
    "clf.fit(x_train,y_train)"
   ]
  },
  {
   "cell_type": "code",
   "execution_count": 25,
   "metadata": {},
   "outputs": [
    {
     "name": "stdout",
     "output_type": "stream",
     "text": [
      "R2 for GradientBoostingRegressor  83.20700181690242\n"
     ]
    }
   ],
   "source": [
    "print(\"R2 for GradientBoostingRegressor \",clf.score(x_val,y_val)*100)\n"
   ]
  },
  {
   "cell_type": "code",
   "execution_count": 26,
   "metadata": {},
   "outputs": [
    {
     "name": "stdout",
     "output_type": "stream",
     "text": [
      "RMSE for GradientBoostingRegressor  3.9123086848491937\n"
     ]
    }
   ],
   "source": [
    "from sklearn.metrics import mean_squared_error\n",
    "\n",
    "mse1 = mean_squared_error(y_val, clf.predict(x_val))\n",
    "print(\"RMSE for GradientBoostingRegressor \",np.sqrt(mse1))"
   ]
  },
  {
   "cell_type": "markdown",
   "metadata": {
    "colab_type": "text",
    "id": "IrPMgatm_Hg1"
   },
   "source": [
    "## Random Forest Regressor"
   ]
  },
  {
   "cell_type": "code",
   "execution_count": 18,
   "metadata": {
    "colab": {},
    "colab_type": "code",
    "id": "rPERjYu3_Hg1"
   },
   "outputs": [],
   "source": [
    "# Model Random Forest Regressor\n",
    "from sklearn.ensemble import RandomForestRegressor\n",
    "\n",
    "rfr = RandomForestRegressor(n_estimators = 100, random_state = 883,n_jobs=-1)\n",
    "#rfr = RandomForestRegressor(n_estimators=30, max_features=20, max_depth=25, min_samples_split=2, min_samples_leaf=3, random_state=0)\n",
    "rfr.fit(x_train, y_train)\n",
    "rfr_pred = rfr.predict(x_val)"
   ]
  },
  {
   "cell_type": "code",
   "execution_count": 19,
   "metadata": {
    "colab": {},
    "colab_type": "code",
    "id": "xbuUF1Gb_Hg4",
    "outputId": "c539897a-7590-48c7-9d96-7e5459df3bef"
   },
   "outputs": [
    {
     "name": "stdout",
     "output_type": "stream",
     "text": [
      "score_train for Random Forest is  97.70316433143375\n",
      "score_val for Random Forest is  83.95370609729181\n"
     ]
    }
   ],
   "source": [
    "# Scores\n",
    "#Check later for preprocessing https://www.kaggle.com/aiswaryaramachandran/eda-and-feature-engineering\n",
    "#https://medium.com/analytics-vidhya/machine-learning-to-predict-taxi-fare-part-one-exploratory-analysis-6b7e6b1fbc78\n",
    "\n",
    "n = 60\n",
    "results = pd.DataFrame({'real_fare': y_val, 'pred_fare': rfr_pred})\n",
    "results['error'] = rfr_pred - y_val\n",
    "#results['error'].mean()*100\n",
    "results.head(n).round(2).T\n",
    "\n",
    "print(\"score_train for Random Forest is \",rfr.score(x_train,y_train)*100)\n",
    "print(\"score_val for Random Forest is \",rfr.score(x_val,y_val)*100 )"
   ]
  },
  {
   "cell_type": "code",
   "execution_count": 20,
   "metadata": {
    "colab": {},
    "colab_type": "code",
    "id": "Jbqfw_Cm_Hg6",
    "outputId": "5f344b1d-694f-4671-f242-cd226fa6307f"
   },
   "outputs": [
    {
     "name": "stdout",
     "output_type": "stream",
     "text": [
      "RMSE for Random Forest is  3.82433884203385\n"
     ]
    }
   ],
   "source": [
    "#Metrics\n",
    "\n",
    "#Returns the coefficient of determination R^2 of the prediction.\n",
    "#https://medium.com/analytics-vidhya/machine-learning-to-predict-taxi-fare-part-two-predictive-modelling-f80461a8072efrom sklearn.metrics import mean_squared_error\n",
    "from sklearn.metrics import mean_squared_error\n",
    "\n",
    "rf_rmse=np.sqrt(mean_squared_error(y_val,rfr_pred))\n",
    "print(\"RMSE for Random Forest is \",rf_rmse)"
   ]
  },
  {
   "cell_type": "code",
   "execution_count": 21,
   "metadata": {
    "colab": {},
    "colab_type": "code",
    "id": "bjTEjClg_Hg_",
    "outputId": "98056acb-d7d8-44ca-cb18-3c2beae82c92"
   },
   "outputs": [
    {
     "data": {
      "image/png": "[encoded data removed]",
      "text/plain": [
       "<Figure size 432x288 with 1 Axes>"
      ]
     },
     "metadata": {
      "needs_background": "light"
     },
     "output_type": "display_data"
    }
   ],
   "source": [
    "#Plotting predictions and labels\n",
    "\n",
    "import matplotlib.pyplot as plt\n",
    "\n",
    "plt.figure()\n",
    "plt.plot(rfr_pred[:100] , 'b^', label='RandomForestRegressor')\n",
    "plt.plot(y_val[:100] , 'r*', label='Ground Truth')\n",
    "plt.tick_params(axis='x', which='both', bottom=False, top=False,\n",
    "                labelbottom=False)\n",
    "plt.ylabel('Fare_amount')\n",
    "plt.xlabel('training samples')\n",
    "plt.legend(loc=\"best\")\n",
    "plt.title('Comparison of results')\n",
    "plt.show()"
   ]
  },
  {
   "cell_type": "markdown",
   "metadata": {
    "colab_type": "text",
    "id": "FRBLFu4v_HhE"
   },
   "source": [
    "## XGBoost"
   ]
  },
  {
   "cell_type": "code",
   "execution_count": 22,
   "metadata": {
    "colab": {},
    "colab_type": "code",
    "id": "Rc-ENPgt_HhF"
   },
   "outputs": [],
   "source": [
    "import xgboost as xgb"
   ]
  },
  {
   "cell_type": "code",
   "execution_count": 23,
   "metadata": {
    "colab": {},
    "colab_type": "code",
    "id": "bgc1RVUa_HhJ",
    "outputId": "ce55e2bc-b4dc-4865-ecb7-5d8185eb1a18"
   },
   "outputs": [
    {
     "data": {
      "text/html": [
       "<div>\n",
       "<style scoped>\n",
       "    .dataframe tbody tr th:only-of-type {\n",
       "        vertical-align: middle;\n",
       "    }\n",
       "\n",
       "    .dataframe tbody tr th {\n",
       "        vertical-align: top;\n",
       "    }\n",
       "\n",
       "    .dataframe thead th {\n",
       "        text-align: right;\n",
       "    }\n",
       "</style>\n",
       "<table border=\"1\" class=\"dataframe\">\n",
       "  <thead>\n",
       "    <tr style=\"text-align: right;\">\n",
       "      <th></th>\n",
       "      <th>0</th>\n",
       "      <th>1</th>\n",
       "      <th>2</th>\n",
       "      <th>3</th>\n",
       "      <th>4</th>\n",
       "      <th>5</th>\n",
       "      <th>6</th>\n",
       "      <th>7</th>\n",
       "      <th>8</th>\n",
       "      <th>9</th>\n",
       "      <th>...</th>\n",
       "      <th>50</th>\n",
       "      <th>51</th>\n",
       "      <th>52</th>\n",
       "      <th>53</th>\n",
       "      <th>54</th>\n",
       "      <th>55</th>\n",
       "      <th>56</th>\n",
       "      <th>57</th>\n",
       "      <th>58</th>\n",
       "      <th>59</th>\n",
       "    </tr>\n",
       "  </thead>\n",
       "  <tbody>\n",
       "    <tr>\n",
       "      <td>real_fare</td>\n",
       "      <td>5.50</td>\n",
       "      <td>5.50</td>\n",
       "      <td>12.90</td>\n",
       "      <td>5.00</td>\n",
       "      <td>8.70</td>\n",
       "      <td>5.00</td>\n",
       "      <td>29.500000</td>\n",
       "      <td>4.00</td>\n",
       "      <td>9.70</td>\n",
       "      <td>38.330002</td>\n",
       "      <td>...</td>\n",
       "      <td>12.00</td>\n",
       "      <td>28.900000</td>\n",
       "      <td>14.50</td>\n",
       "      <td>10.50</td>\n",
       "      <td>13.7</td>\n",
       "      <td>6.50</td>\n",
       "      <td>5.500000</td>\n",
       "      <td>6.00</td>\n",
       "      <td>14.50</td>\n",
       "      <td>6.90</td>\n",
       "    </tr>\n",
       "    <tr>\n",
       "      <td>pred_fare</td>\n",
       "      <td>5.93</td>\n",
       "      <td>4.46</td>\n",
       "      <td>12.09</td>\n",
       "      <td>5.47</td>\n",
       "      <td>9.21</td>\n",
       "      <td>6.64</td>\n",
       "      <td>25.110001</td>\n",
       "      <td>5.58</td>\n",
       "      <td>9.67</td>\n",
       "      <td>40.090000</td>\n",
       "      <td>...</td>\n",
       "      <td>10.03</td>\n",
       "      <td>27.700001</td>\n",
       "      <td>16.09</td>\n",
       "      <td>12.36</td>\n",
       "      <td>13.0</td>\n",
       "      <td>6.64</td>\n",
       "      <td>18.190001</td>\n",
       "      <td>6.02</td>\n",
       "      <td>13.04</td>\n",
       "      <td>6.37</td>\n",
       "    </tr>\n",
       "    <tr>\n",
       "      <td>error</td>\n",
       "      <td>0.43</td>\n",
       "      <td>-1.04</td>\n",
       "      <td>-0.81</td>\n",
       "      <td>0.47</td>\n",
       "      <td>0.51</td>\n",
       "      <td>1.64</td>\n",
       "      <td>-4.390000</td>\n",
       "      <td>1.58</td>\n",
       "      <td>-0.03</td>\n",
       "      <td>1.760000</td>\n",
       "      <td>...</td>\n",
       "      <td>-1.97</td>\n",
       "      <td>-1.200000</td>\n",
       "      <td>1.59</td>\n",
       "      <td>1.86</td>\n",
       "      <td>-0.7</td>\n",
       "      <td>0.14</td>\n",
       "      <td>12.690000</td>\n",
       "      <td>0.02</td>\n",
       "      <td>-1.46</td>\n",
       "      <td>-0.53</td>\n",
       "    </tr>\n",
       "  </tbody>\n",
       "</table>\n",
       "<p>3 rows × 60 columns</p>\n",
       "</div>"
      ],
      "text/plain": [
       "             0     1      2     3     4     5          6     7     8   \\\n",
       "real_fare  5.50  5.50  12.90  5.00  8.70  5.00  29.500000  4.00  9.70   \n",
       "pred_fare  5.93  4.46  12.09  5.47  9.21  6.64  25.110001  5.58  9.67   \n",
       "error      0.43 -1.04  -0.81  0.47  0.51  1.64  -4.390000  1.58 -0.03   \n",
       "\n",
       "                  9   ...     50         51     52     53    54    55  \\\n",
       "real_fare  38.330002  ...  12.00  28.900000  14.50  10.50  13.7  6.50   \n",
       "pred_fare  40.090000  ...  10.03  27.700001  16.09  12.36  13.0  6.64   \n",
       "error       1.760000  ...  -1.97  -1.200000   1.59   1.86  -0.7  0.14   \n",
       "\n",
       "                  56    57     58    59  \n",
       "real_fare   5.500000  6.00  14.50  6.90  \n",
       "pred_fare  18.190001  6.02  13.04  6.37  \n",
       "error      12.690000  0.02  -1.46 -0.53  \n",
       "\n",
       "[3 rows x 60 columns]"
      ]
     },
     "execution_count": 23,
     "metadata": {},
     "output_type": "execute_result"
    }
   ],
   "source": [
    "#https://www.kaggle.com/yashah19/nyc-taxi-fare-prediction\n",
    "dtrain = xgb.DMatrix(x_train, label=y_train)\n",
    "dtest = xgb.DMatrix(x_val)\n",
    "params = {'max_depth':10,\n",
    "          'eta':1,\n",
    "          'silent':1,\n",
    "          'objective':'reg:linear',\n",
    "          'eval_metric':'rmse',\n",
    "          'learning_rate':0.1\n",
    "         }\n",
    "num_rounds = 50\n",
    "\n",
    "xb = xgb.train(params, dtrain, num_rounds)\n",
    "y_pred_xgb = xb.predict(dtest)\n",
    "\n",
    "n = 60\n",
    "results2 = pd.DataFrame({'real_fare': y_val, 'pred_fare': y_pred_xgb})\n",
    "results2['error'] = y_pred_xgb - y_val\n",
    "results2.head(n).round(2).T\n",
    "    "
   ]
  },
  {
   "cell_type": "code",
   "execution_count": 24,
   "metadata": {
    "colab": {},
    "colab_type": "code",
    "id": "KCO3QwO0_HhP",
    "outputId": "57ead97f-e82a-4242-c038-ae6d1da023b9"
   },
   "outputs": [
    {
     "name": "stdout",
     "output_type": "stream",
     "text": [
      "RMSE for Xgboost  3.7603118\n",
      "r2_score for Xgboost  84.4864999401012\n"
     ]
    }
   ],
   "source": [
    "from sklearn.metrics import mean_squared_error, r2_score\n",
    "\n",
    "rf_rmse2=np.sqrt(mean_squared_error(y_pred_xgb,y_val))\n",
    "print(\"RMSE for Xgboost \",rf_rmse2)\n",
    "rf_r2score=r2_score(y_val,y_pred_xgb)\n",
    "print(\"r2_score for Xgboost \",rf_r2score*100)"
   ]
  },
  {
   "cell_type": "markdown",
   "metadata": {
    "colab_type": "text",
    "id": "0FmrzXVG_HhV"
   },
   "source": [
    "## Keras Neural Net\n"
   ]
  },
  {
   "cell_type": "code",
   "execution_count": 42,
   "metadata": {
    "colab": {},
    "colab_type": "code",
    "id": "7zit_08x_HhW"
   },
   "outputs": [],
   "source": [
    "#https://www.kaggle.com/ottpeterr/what-s-a-ride-cost-2-of-2-neural-net\n",
    "#https://www.pyimagesearch.com/2019/01/21/regression-with-keras/\n",
    "#https://datascienceplus.com/keras-regression-based-neural-networks/\n",
    "\n",
    "import tensorflow as tf\n",
    "import keras\n",
    "from keras.models import Sequential\n",
    "from keras.layers import Dense, Dropout\n",
    "from keras.layers.normalization import BatchNormalization\n",
    "from keras.optimizers import RMSprop\n",
    "from keras import metrics\n",
    "from keras import backend as K\n",
    "\n",
    "\n",
    "\n",
    "model = Sequential()\n",
    "model.add(Dense(32, kernel_initializer=\"normal\", input_dim=x_train.shape[1], activation='relu'))\n",
    "model.add(BatchNormalization())\n",
    "model.add(Dropout(0.5));\n",
    "model.add(Dense(32, kernel_initializer=\"normal\", activation='relu'))\n",
    "model.add(BatchNormalization())\n",
    "model.add(Dropout(0.5))\n",
    "model.add(Dense(32, kernel_initializer=\"normal\", activation='relu'))\n",
    "model.add(BatchNormalization())\n",
    "model.add(Dropout(0.5))\n",
    "\n",
    "model.add(Dense(32, kernel_initializer=\"normal\", activation='relu'))\n",
    "model.add(BatchNormalization())\n",
    "model.add(Dropout(0.5))\n",
    "model.add(Dense(32, kernel_initializer=\"normal\", activation='relu'))\n",
    "model.add(BatchNormalization())\n",
    "model.add(Dropout(0.5))\n",
    "model.add(Dense(128, kernel_initializer=\"normal\", activation='relu'))\n",
    "model.add(BatchNormalization())\n",
    "model.add(Dropout(0.5))\n",
    "\n",
    "model.add(Dense(1, activation='linear'))\n",
    "\n",
    "model.compile(loss='mean_squared_error',\n",
    "              optimizer='nadam',  #'nadam', #\n",
    "              metrics=[metrics.mae])\n"
   ]
  },
  {
   "cell_type": "code",
   "execution_count": 43,
   "metadata": {
    "colab": {},
    "colab_type": "code",
    "id": "GFZypPTp_HhY",
    "outputId": "b852be4d-9df0-4207-eab3-a395d18b1325"
   },
   "outputs": [
    {
     "name": "stdout",
     "output_type": "stream",
     "text": [
      "Train on 685076 samples, validate on 293605 samples\n",
      "Epoch 1/25\n",
      "685076/685076 [==============================] - 8s 11us/step - loss: 98.4036 - mean_absolute_error: 6.9415 - val_loss: 97.0697 - val_mean_absolute_error: 5.2813\n",
      "Epoch 2/25\n",
      "685076/685076 [==============================] - 6s 9us/step - loss: 34.6220 - mean_absolute_error: 3.3268 - val_loss: 80.7917 - val_mean_absolute_error: 4.9242\n",
      "Epoch 3/25\n",
      "685076/685076 [==============================] - 6s 9us/step - loss: 30.0657 - mean_absolute_error: 3.0210 - val_loss: 50.3934 - val_mean_absolute_error: 3.6670\n",
      "Epoch 4/25\n",
      "685076/685076 [==============================] - 6s 9us/step - loss: 28.6693 - mean_absolute_error: 2.9170 - val_loss: 31.6919 - val_mean_absolute_error: 2.9554\n",
      "Epoch 5/25\n",
      "685076/685076 [==============================] - 6s 9us/step - loss: 27.8801 - mean_absolute_error: 2.8641 - val_loss: 29.5171 - val_mean_absolute_error: 3.1606\n",
      "Epoch 6/25\n",
      "685076/685076 [==============================] - 6s 9us/step - loss: 27.3600 - mean_absolute_error: 2.8220 - val_loss: 22.9436 - val_mean_absolute_error: 2.4364\n",
      "Epoch 7/25\n",
      "685076/685076 [==============================] - 6s 9us/step - loss: 27.0372 - mean_absolute_error: 2.8049 - val_loss: 22.0792 - val_mean_absolute_error: 2.4649\n",
      "Epoch 8/25\n",
      "685076/685076 [==============================] - 6s 9us/step - loss: 26.8525 - mean_absolute_error: 2.7903 - val_loss: 21.4733 - val_mean_absolute_error: 2.3612\n",
      "Epoch 9/25\n",
      "685076/685076 [==============================] - 6s 9us/step - loss: 26.6018 - mean_absolute_error: 2.7762 - val_loss: 22.4359 - val_mean_absolute_error: 2.4330\n",
      "Epoch 10/25\n",
      "685076/685076 [==============================] - 6s 9us/step - loss: 26.3813 - mean_absolute_error: 2.7542 - val_loss: 22.8286 - val_mean_absolute_error: 2.4302\n",
      "Epoch 11/25\n",
      "685076/685076 [==============================] - 6s 9us/step - loss: 26.4570 - mean_absolute_error: 2.7472 - val_loss: 27.9832 - val_mean_absolute_error: 2.9805\n",
      "Epoch 12/25\n",
      "685076/685076 [==============================] - 6s 9us/step - loss: 26.2419 - mean_absolute_error: 2.7420 - val_loss: 20.9402 - val_mean_absolute_error: 2.2288\n",
      "Epoch 13/25\n",
      "685076/685076 [==============================] - 6s 9us/step - loss: 26.3155 - mean_absolute_error: 2.7328 - val_loss: 23.9933 - val_mean_absolute_error: 2.4393\n",
      "Epoch 14/25\n",
      "685076/685076 [==============================] - 6s 9us/step - loss: 26.3039 - mean_absolute_error: 2.7337 - val_loss: 31.5167 - val_mean_absolute_error: 3.8748\n",
      "Epoch 15/25\n",
      "685076/685076 [==============================] - 6s 9us/step - loss: 26.0423 - mean_absolute_error: 2.7283 - val_loss: 22.2689 - val_mean_absolute_error: 2.3694\n",
      "Epoch 16/25\n",
      "685076/685076 [==============================] - 6s 9us/step - loss: 26.0705 - mean_absolute_error: 2.7202 - val_loss: 26.3348 - val_mean_absolute_error: 2.7603\n",
      "Epoch 17/25\n",
      "685076/685076 [==============================] - 6s 9us/step - loss: 25.9135 - mean_absolute_error: 2.7075 - val_loss: 21.6761 - val_mean_absolute_error: 2.3131\n",
      "Epoch 18/25\n",
      "685076/685076 [==============================] - 6s 9us/step - loss: 26.0113 - mean_absolute_error: 2.7173 - val_loss: 22.9112 - val_mean_absolute_error: 2.4244\n",
      "Epoch 19/25\n",
      "685076/685076 [==============================] - 6s 9us/step - loss: 25.8820 - mean_absolute_error: 2.7090 - val_loss: 21.7690 - val_mean_absolute_error: 2.2494\n",
      "Epoch 20/25\n",
      "685076/685076 [==============================] - 6s 9us/step - loss: 25.7499 - mean_absolute_error: 2.6980 - val_loss: 22.7699 - val_mean_absolute_error: 2.4941\n",
      "Epoch 21/25\n",
      "685076/685076 [==============================] - 6s 9us/step - loss: 25.7150 - mean_absolute_error: 2.6977 - val_loss: 20.8499 - val_mean_absolute_error: 2.2545\n",
      "Epoch 22/25\n",
      "685076/685076 [==============================] - 6s 9us/step - loss: 25.6777 - mean_absolute_error: 2.6939 - val_loss: 25.4289 - val_mean_absolute_error: 2.5933\n",
      "Epoch 23/25\n",
      "685076/685076 [==============================] - 6s 9us/step - loss: 25.7157 - mean_absolute_error: 2.6981 - val_loss: 25.7023 - val_mean_absolute_error: 2.5422\n",
      "Epoch 24/25\n",
      "685076/685076 [==============================] - 6s 9us/step - loss: 25.6779 - mean_absolute_error: 2.6927 - val_loss: 20.9329 - val_mean_absolute_error: 2.2500\n",
      "Epoch 25/25\n",
      "685076/685076 [==============================] - 6s 8us/step - loss: 25.5109 - mean_absolute_error: 2.6846 - val_loss: 25.2665 - val_mean_absolute_error: 2.5823\n"
     ]
    }
   ],
   "source": [
    "num_epochs = 25\n",
    "batch_size = 2**12\n",
    "history = model.fit(x_train, y_train, \n",
    "                    validation_data = (x_val, y_val),\n",
    "                    shuffle=True, \n",
    "                    epochs=num_epochs, \n",
    "                    batch_size=batch_size)"
   ]
  },
  {
   "cell_type": "code",
   "execution_count": 44,
   "metadata": {
    "colab": {},
    "colab_type": "code",
    "id": "_Q0Blz6P_Hhb",
    "outputId": "780d3da3-33b4-4440-aec1-ae9f3c21f37b"
   },
   "outputs": [
    {
     "data": {
      "text/plain": [
       "Text(0.5, 0, 'epoch')"
      ]
     },
     "execution_count": 44,
     "metadata": {},
     "output_type": "execute_result"
    },
    {
     "data": {
      "image/png": "[encoded data removed]",
      "text/plain": [
       "<Figure size 432x288 with 1 Axes>"
      ]
     },
     "metadata": {
      "needs_background": "light"
     },
     "output_type": "display_data"
    },
    {
     "data": {
      "image/png": "[encoded data removed]",
      "text/plain": [
       "<Figure size 432x288 with 1 Axes>"
      ]
     },
     "metadata": {
      "needs_background": "light"
     },
     "output_type": "display_data"
    }
   ],
   "source": [
    "import matplotlib.pyplot as plt\n",
    "                                                   \n",
    "plt.figure()         \n",
    "plt.plot(history.history['loss'], color=\"blue\")\n",
    "plt.plot(history.history['val_loss'], color=\"red\")\n",
    "plt.legend(['Train', 'Validation'], loc='upper left')\n",
    "plt.ylabel(\"loss\")\n",
    "plt.xlabel(\"epoch\")\n",
    "\n",
    "plt.figure()\n",
    "plt.plot(history.history['mean_absolute_error'], color=\"blue\")\n",
    "plt.plot(history.history['val_mean_absolute_error'], color=\"red\")\n",
    "plt.legend(['Train', 'Validation'], loc='upper left')\n",
    "plt.ylabel(\"Mean Abs. Error\")\n",
    "plt.xlabel(\"epoch\")"
   ]
  },
  {
   "cell_type": "code",
   "execution_count": 45,
   "metadata": {
    "colab": {},
    "colab_type": "code",
    "id": "H32SjNMg_Hhf",
    "outputId": "be9fb409-980c-45be-9c50-4215c10cc2c3"
   },
   "outputs": [
    {
     "name": "stdout",
     "output_type": "stream",
     "text": [
      "RMSE for Neural Network -Keras 4.777925594559156\n"
     ]
    }
   ],
   "source": [
    "print(\"RMSE for Neural Network -Keras\",np.sqrt(history.history['val_loss'][9]))"
   ]
  },
  {
   "cell_type": "markdown",
   "metadata": {
    "colab_type": "text",
    "id": "3V29xY3C_Hhi"
   },
   "source": [
    "## Pytorch "
   ]
  },
  {
   "cell_type": "code",
   "execution_count": null,
   "metadata": {
    "colab": {},
    "colab_type": "code",
    "id": "tZxND_cb_Hhi"
   },
   "outputs": [],
   "source": [
    "#https://www.kaggle.com/dienhoa/nyc-taxi-fare-neural-network-with-pytorch\n",
    "import torch\n",
    "import torch.nn as nn\n",
    "from torch.autograd import Variable"
   ]
  },
  {
   "cell_type": "code",
   "execution_count": null,
   "metadata": {
    "colab": {},
    "colab_type": "code",
    "id": "uCVFL6WwF0tX"
   },
   "outputs": [],
   "source": [
    "model = nn.Sequential(nn.Linear(20, 50), \n",
    "                      nn.ReLU(),\n",
    "                      nn.Dropout(0.25),  \n",
    "                      nn.Linear(50, 30),\n",
    "                      nn.ReLU(),\n",
    "                      nn.Dropout(0.25),\n",
    "                      nn.Linear(30, 20),\n",
    "                      nn.ReLU(),\n",
    "                      nn.Linear(20, 1))\n",
    "\n"
   ]
  },
  {
   "cell_type": "code",
   "execution_count": null,
   "metadata": {
    "colab": {},
    "colab_type": "code",
    "id": "Enixq8GDUnom"
   },
   "outputs": [],
   "source": [
    "model = nn.Sequential(nn.Linear(20, 10),\n",
    "                     nn.Linear(10, 5),\n",
    "                      nn.Linear(5, 1))"
   ]
  },
  {
   "cell_type": "code",
   "execution_count": null,
   "metadata": {
    "colab": {},
    "colab_type": "code",
    "id": "k45M3E2T_Hhn"
   },
   "outputs": [],
   "source": [
    "criterion = torch.nn.MSELoss()\n",
    "optimizer = torch.optim.Adam(model.parameters(), lr=0.1)\n"
   ]
  },
  {
   "cell_type": "code",
   "execution_count": 257,
   "metadata": {
    "colab": {
     "base_uri": "https://localhost:8080/",
     "height": 34
    },
    "colab_type": "code",
    "id": "qNq2B-58_Hhp",
    "outputId": "2d101b73-ba43-4aab-c9d7-0878e1fef11c"
   },
   "outputs": [
    {
     "data": {
      "text/plain": [
       "((6990, 20), torch.Size([6990, 20]))"
      ]
     },
     "execution_count": 257,
     "metadata": {
      "tags": []
     },
     "output_type": "execute_result"
    }
   ],
   "source": [
    "#X = np.stack((train_df.abs_diff_latitude.values,train_df.abs_diff_longitude.values)).T\n",
    "X  =x_train\n",
    "X = torch.from_numpy(X)\n",
    "X = X.type(torch.FloatTensor)\n",
    "np.shape(x_train), np.shape(X)"
   ]
  },
  {
   "cell_type": "code",
   "execution_count": null,
   "metadata": {
    "colab": {},
    "colab_type": "code",
    "id": "Mgv367bO_Hhs"
   },
   "outputs": [],
   "source": [
    "y= torch.from_numpy(y_train.T)\n",
    "y = y.type(torch.FloatTensor)\n"
   ]
  },
  {
   "cell_type": "code",
   "execution_count": 260,
   "metadata": {
    "colab": {
     "base_uri": "https://localhost:8080/",
     "height": 1000
    },
    "colab_type": "code",
    "id": "HEtdwto8Vmiy",
    "outputId": "ea2ac9ee-63af-4e93-be21-433ffd9537ec"
   },
   "outputs": [
    {
     "name": "stderr",
     "output_type": "stream",
     "text": [
      "/usr/local/lib/python3.6/dist-packages/torch/nn/modules/loss.py:431: UserWarning: Using a target size (torch.Size([6990])) that is different to the input size (torch.Size([6990, 1])). This will likely lead to incorrect results due to broadcasting. Please ensure they have the same size.\n",
      "  return F.mse_loss(input, target, reduction=self.reduction)\n"
     ]
    },
    {
     "name": "stdout",
     "output_type": "stream",
     "text": [
      "epoch:  0  loss:  102.23892211914062\n",
      "epoch:  1  loss:  102.10613250732422\n",
      "epoch:  2  loss:  102.28717803955078\n",
      "epoch:  3  loss:  102.20805358886719\n",
      "epoch:  4  loss:  102.16754150390625\n",
      "epoch:  5  loss:  101.94801330566406\n",
      "epoch:  6  loss:  102.10901641845703\n",
      "epoch:  7  loss:  101.98424530029297\n",
      "epoch:  8  loss:  101.80917358398438\n",
      "epoch:  9  loss:  102.01914978027344\n",
      "epoch:  10  loss:  101.91820526123047\n",
      "epoch:  11  loss:  101.79932403564453\n",
      "epoch:  12  loss:  101.75992584228516\n",
      "epoch:  13  loss:  101.83650207519531\n",
      "epoch:  14  loss:  101.58812713623047\n",
      "epoch:  15  loss:  101.76824188232422\n",
      "epoch:  16  loss:  101.74055480957031\n",
      "epoch:  17  loss:  101.67932891845703\n",
      "epoch:  18  loss:  101.7022933959961\n",
      "epoch:  19  loss:  101.5423583984375\n",
      "epoch:  20  loss:  101.63890838623047\n",
      "epoch:  21  loss:  101.60906219482422\n",
      "epoch:  22  loss:  101.43679809570312\n",
      "epoch:  23  loss:  101.58455657958984\n",
      "epoch:  24  loss:  101.51986694335938\n",
      "epoch:  25  loss:  101.423828125\n",
      "epoch:  26  loss:  101.47648620605469\n",
      "epoch:  27  loss:  101.4218521118164\n",
      "epoch:  28  loss:  101.3355712890625\n",
      "epoch:  29  loss:  101.42253112792969\n",
      "epoch:  30  loss:  101.384765625\n",
      "epoch:  31  loss:  101.2521743774414\n",
      "epoch:  32  loss:  101.21659851074219\n",
      "epoch:  33  loss:  101.3120346069336\n",
      "epoch:  34  loss:  101.2259750366211\n",
      "epoch:  35  loss:  101.23468780517578\n",
      "epoch:  36  loss:  101.2448501586914\n",
      "epoch:  37  loss:  101.25653839111328\n",
      "epoch:  38  loss:  101.14234924316406\n",
      "epoch:  39  loss:  101.08734893798828\n",
      "epoch:  40  loss:  101.10845947265625\n",
      "epoch:  41  loss:  101.15532684326172\n",
      "epoch:  42  loss:  101.19200897216797\n",
      "epoch:  43  loss:  101.05351257324219\n",
      "epoch:  44  loss:  100.97527313232422\n",
      "epoch:  45  loss:  100.99436950683594\n",
      "epoch:  46  loss:  101.03955078125\n",
      "epoch:  47  loss:  101.01882934570312\n",
      "epoch:  48  loss:  101.06707000732422\n",
      "epoch:  49  loss:  101.04803466796875\n",
      "epoch:  50  loss:  100.9852066040039\n",
      "epoch:  51  loss:  100.89974212646484\n",
      "epoch:  52  loss:  100.90897369384766\n",
      "epoch:  53  loss:  100.9311752319336\n",
      "epoch:  54  loss:  100.8969955444336\n",
      "epoch:  55  loss:  100.86457824707031\n",
      "epoch:  56  loss:  100.909912109375\n",
      "epoch:  57  loss:  101.04735565185547\n",
      "epoch:  58  loss:  100.89595794677734\n",
      "epoch:  59  loss:  100.85096740722656\n",
      "epoch:  60  loss:  100.85708618164062\n",
      "epoch:  61  loss:  100.86474609375\n",
      "epoch:  62  loss:  100.90045166015625\n",
      "epoch:  63  loss:  100.89564514160156\n",
      "epoch:  64  loss:  100.79367065429688\n",
      "epoch:  65  loss:  100.77409362792969\n",
      "epoch:  66  loss:  100.8832778930664\n",
      "epoch:  67  loss:  100.81891632080078\n",
      "epoch:  68  loss:  100.8094711303711\n",
      "epoch:  69  loss:  100.73428344726562\n",
      "epoch:  70  loss:  100.70091247558594\n",
      "epoch:  71  loss:  100.76569366455078\n",
      "epoch:  72  loss:  100.74771881103516\n",
      "epoch:  73  loss:  100.72500610351562\n",
      "epoch:  74  loss:  100.76631164550781\n",
      "epoch:  75  loss:  100.69340515136719\n",
      "epoch:  76  loss:  100.7180404663086\n",
      "epoch:  77  loss:  100.81376647949219\n",
      "epoch:  78  loss:  100.6066665649414\n",
      "epoch:  79  loss:  100.71277618408203\n",
      "epoch:  80  loss:  100.6552963256836\n",
      "epoch:  81  loss:  100.73625946044922\n",
      "epoch:  82  loss:  100.70037078857422\n",
      "epoch:  83  loss:  100.66922760009766\n",
      "epoch:  84  loss:  100.65843963623047\n",
      "epoch:  85  loss:  100.69651794433594\n",
      "epoch:  86  loss:  100.64140319824219\n",
      "epoch:  87  loss:  100.61859130859375\n",
      "epoch:  88  loss:  100.63890838623047\n",
      "epoch:  89  loss:  100.66586303710938\n",
      "epoch:  90  loss:  100.61630249023438\n",
      "epoch:  91  loss:  100.63753509521484\n",
      "epoch:  92  loss:  100.65241241455078\n",
      "epoch:  93  loss:  100.58284759521484\n",
      "epoch:  94  loss:  100.6261215209961\n",
      "epoch:  95  loss:  100.52899169921875\n",
      "epoch:  96  loss:  100.55982208251953\n",
      "epoch:  97  loss:  100.58158111572266\n",
      "epoch:  98  loss:  100.57518768310547\n",
      "epoch:  99  loss:  100.56978607177734\n",
      "epoch:  100  loss:  100.54115295410156\n",
      "epoch:  101  loss:  100.52320861816406\n",
      "epoch:  102  loss:  100.54801940917969\n",
      "epoch:  103  loss:  100.48912048339844\n",
      "epoch:  104  loss:  100.48664093017578\n",
      "epoch:  105  loss:  100.53948211669922\n",
      "epoch:  106  loss:  100.47772979736328\n",
      "epoch:  107  loss:  100.56062316894531\n",
      "epoch:  108  loss:  100.54375457763672\n",
      "epoch:  109  loss:  100.4319839477539\n",
      "epoch:  110  loss:  100.47907257080078\n",
      "epoch:  111  loss:  100.48970794677734\n",
      "epoch:  112  loss:  100.515869140625\n",
      "epoch:  113  loss:  100.4556655883789\n",
      "epoch:  114  loss:  100.44306945800781\n",
      "epoch:  115  loss:  100.3662338256836\n",
      "epoch:  116  loss:  100.49632263183594\n",
      "epoch:  117  loss:  100.48272705078125\n",
      "epoch:  118  loss:  100.37837219238281\n",
      "epoch:  119  loss:  100.45622253417969\n",
      "epoch:  120  loss:  100.4453125\n",
      "epoch:  121  loss:  100.46234130859375\n",
      "epoch:  122  loss:  100.41289520263672\n",
      "epoch:  123  loss:  100.37007904052734\n",
      "epoch:  124  loss:  100.3836441040039\n",
      "epoch:  125  loss:  100.43035888671875\n",
      "epoch:  126  loss:  100.41293334960938\n",
      "epoch:  127  loss:  100.31426239013672\n",
      "epoch:  128  loss:  100.38130950927734\n",
      "epoch:  129  loss:  100.35936737060547\n",
      "epoch:  130  loss:  100.33355712890625\n",
      "epoch:  131  loss:  100.35193634033203\n",
      "epoch:  132  loss:  100.32728576660156\n",
      "epoch:  133  loss:  100.37449645996094\n",
      "epoch:  134  loss:  100.29351043701172\n",
      "epoch:  135  loss:  100.354248046875\n",
      "epoch:  136  loss:  100.35449981689453\n",
      "epoch:  137  loss:  100.29849243164062\n",
      "epoch:  138  loss:  100.22615814208984\n",
      "epoch:  139  loss:  100.27523803710938\n",
      "epoch:  140  loss:  100.3296127319336\n",
      "epoch:  141  loss:  100.31893157958984\n",
      "epoch:  142  loss:  100.30058288574219\n",
      "epoch:  143  loss:  100.3286361694336\n",
      "epoch:  144  loss:  100.27454376220703\n",
      "epoch:  145  loss:  100.25286102294922\n",
      "epoch:  146  loss:  100.22359466552734\n",
      "epoch:  147  loss:  100.28882598876953\n",
      "epoch:  148  loss:  100.28077697753906\n",
      "epoch:  149  loss:  100.28999328613281\n",
      "epoch:  150  loss:  100.29998016357422\n",
      "epoch:  151  loss:  100.26744079589844\n",
      "epoch:  152  loss:  100.2127914428711\n",
      "epoch:  153  loss:  100.28056335449219\n",
      "epoch:  154  loss:  100.24861145019531\n",
      "epoch:  155  loss:  100.16117095947266\n",
      "epoch:  156  loss:  100.22633361816406\n",
      "epoch:  157  loss:  100.20381164550781\n",
      "epoch:  158  loss:  100.20551300048828\n",
      "epoch:  159  loss:  100.22835540771484\n",
      "epoch:  160  loss:  100.1655044555664\n",
      "epoch:  161  loss:  100.20904541015625\n",
      "epoch:  162  loss:  100.18855285644531\n",
      "epoch:  163  loss:  100.16539001464844\n",
      "epoch:  164  loss:  100.12928009033203\n",
      "epoch:  165  loss:  100.14507293701172\n",
      "epoch:  166  loss:  100.16653442382812\n",
      "epoch:  167  loss:  100.14241027832031\n",
      "epoch:  168  loss:  100.09968566894531\n",
      "epoch:  169  loss:  100.22142791748047\n",
      "epoch:  170  loss:  100.11632537841797\n",
      "epoch:  171  loss:  100.15464782714844\n",
      "epoch:  172  loss:  100.17205810546875\n",
      "epoch:  173  loss:  100.07384490966797\n",
      "epoch:  174  loss:  100.21187591552734\n",
      "epoch:  175  loss:  100.13166809082031\n",
      "epoch:  176  loss:  100.11466979980469\n",
      "epoch:  177  loss:  100.07118225097656\n",
      "epoch:  178  loss:  100.07766723632812\n",
      "epoch:  179  loss:  100.05462646484375\n",
      "epoch:  180  loss:  100.08938598632812\n",
      "epoch:  181  loss:  100.08213806152344\n",
      "epoch:  182  loss:  100.0631103515625\n",
      "epoch:  183  loss:  100.07241821289062\n",
      "epoch:  184  loss:  100.037841796875\n",
      "epoch:  185  loss:  100.01270294189453\n",
      "epoch:  186  loss:  99.96761322021484\n",
      "epoch:  187  loss:  100.0606918334961\n",
      "epoch:  188  loss:  100.03050994873047\n",
      "epoch:  189  loss:  100.0155029296875\n",
      "epoch:  190  loss:  100.00126647949219\n",
      "epoch:  191  loss:  100.00130462646484\n",
      "epoch:  192  loss:  100.04276275634766\n",
      "epoch:  193  loss:  100.0008316040039\n",
      "epoch:  194  loss:  100.01243591308594\n",
      "epoch:  195  loss:  99.99562072753906\n",
      "epoch:  196  loss:  99.96598815917969\n",
      "epoch:  197  loss:  100.01583099365234\n",
      "epoch:  198  loss:  100.02095031738281\n",
      "epoch:  199  loss:  99.96752166748047\n",
      "epoch:  200  loss:  99.96974182128906\n",
      "epoch:  201  loss:  99.94880676269531\n",
      "epoch:  202  loss:  99.91551971435547\n",
      "epoch:  203  loss:  99.94194030761719\n",
      "epoch:  204  loss:  99.92635345458984\n",
      "epoch:  205  loss:  99.88328552246094\n",
      "epoch:  206  loss:  99.8786392211914\n",
      "epoch:  207  loss:  99.9009017944336\n",
      "epoch:  208  loss:  99.84781646728516\n",
      "epoch:  209  loss:  99.86729431152344\n",
      "epoch:  210  loss:  99.9134750366211\n",
      "epoch:  211  loss:  99.83004760742188\n",
      "epoch:  212  loss:  99.84246826171875\n",
      "epoch:  213  loss:  99.86042022705078\n",
      "epoch:  214  loss:  99.91172790527344\n",
      "epoch:  215  loss:  99.92398834228516\n",
      "epoch:  216  loss:  99.85503387451172\n",
      "epoch:  217  loss:  99.8420181274414\n",
      "epoch:  218  loss:  99.83067321777344\n",
      "epoch:  219  loss:  99.88504028320312\n",
      "epoch:  220  loss:  99.87273406982422\n",
      "epoch:  221  loss:  99.77151489257812\n",
      "epoch:  222  loss:  99.84734344482422\n",
      "epoch:  223  loss:  99.80442810058594\n",
      "epoch:  224  loss:  99.75874328613281\n",
      "epoch:  225  loss:  99.81989288330078\n",
      "epoch:  226  loss:  99.75702667236328\n",
      "epoch:  227  loss:  99.72724914550781\n",
      "epoch:  228  loss:  99.76799011230469\n",
      "epoch:  229  loss:  99.75599670410156\n",
      "epoch:  230  loss:  99.7330551147461\n",
      "epoch:  231  loss:  99.71249389648438\n",
      "epoch:  232  loss:  99.75816345214844\n",
      "epoch:  233  loss:  99.744873046875\n",
      "epoch:  234  loss:  99.73295593261719\n",
      "epoch:  235  loss:  99.75518798828125\n",
      "epoch:  236  loss:  99.7087173461914\n",
      "epoch:  237  loss:  99.74383544921875\n",
      "epoch:  238  loss:  99.6982650756836\n",
      "epoch:  239  loss:  99.76146697998047\n",
      "epoch:  240  loss:  99.69852447509766\n",
      "epoch:  241  loss:  99.68933868408203\n",
      "epoch:  242  loss:  99.66313171386719\n",
      "epoch:  243  loss:  99.74545288085938\n",
      "epoch:  244  loss:  99.63165283203125\n",
      "epoch:  245  loss:  99.69880676269531\n",
      "epoch:  246  loss:  99.67023468017578\n",
      "epoch:  247  loss:  99.64179992675781\n",
      "epoch:  248  loss:  99.68295288085938\n",
      "epoch:  249  loss:  99.58612823486328\n",
      "epoch:  250  loss:  99.6265640258789\n",
      "epoch:  251  loss:  99.62066650390625\n",
      "epoch:  252  loss:  99.5979232788086\n",
      "epoch:  253  loss:  99.61017608642578\n",
      "epoch:  254  loss:  99.60887145996094\n",
      "epoch:  255  loss:  99.58063507080078\n",
      "epoch:  256  loss:  99.61624908447266\n",
      "epoch:  257  loss:  99.55162811279297\n",
      "epoch:  258  loss:  99.61515045166016\n",
      "epoch:  259  loss:  99.54234313964844\n",
      "epoch:  260  loss:  99.58248138427734\n",
      "epoch:  261  loss:  99.51319122314453\n",
      "epoch:  262  loss:  99.55157470703125\n",
      "epoch:  263  loss:  99.55786895751953\n",
      "epoch:  264  loss:  99.49302673339844\n",
      "epoch:  265  loss:  99.50074005126953\n",
      "epoch:  266  loss:  99.52079010009766\n",
      "epoch:  267  loss:  99.52314758300781\n",
      "epoch:  268  loss:  99.53339385986328\n",
      "epoch:  269  loss:  99.46195983886719\n",
      "epoch:  270  loss:  99.49002838134766\n",
      "epoch:  271  loss:  99.48158264160156\n",
      "epoch:  272  loss:  99.49494934082031\n",
      "epoch:  273  loss:  99.49276733398438\n",
      "epoch:  274  loss:  99.45819091796875\n",
      "epoch:  275  loss:  99.4552230834961\n",
      "epoch:  276  loss:  99.44535827636719\n",
      "epoch:  277  loss:  99.43180084228516\n",
      "epoch:  278  loss:  99.39981079101562\n",
      "epoch:  279  loss:  99.44450378417969\n",
      "epoch:  280  loss:  99.42997741699219\n",
      "epoch:  281  loss:  99.43477630615234\n",
      "epoch:  282  loss:  99.39461517333984\n",
      "epoch:  283  loss:  99.37957763671875\n",
      "epoch:  284  loss:  99.32660675048828\n",
      "epoch:  285  loss:  99.38995361328125\n",
      "epoch:  286  loss:  99.3947982788086\n",
      "epoch:  287  loss:  99.36512756347656\n",
      "epoch:  288  loss:  99.39277648925781\n",
      "epoch:  289  loss:  99.38285064697266\n",
      "epoch:  290  loss:  99.33367919921875\n",
      "epoch:  291  loss:  99.35664367675781\n",
      "epoch:  292  loss:  99.34426879882812\n",
      "epoch:  293  loss:  99.3681411743164\n",
      "epoch:  294  loss:  99.33145904541016\n",
      "epoch:  295  loss:  99.32357025146484\n",
      "epoch:  296  loss:  99.3512954711914\n",
      "epoch:  297  loss:  99.23992156982422\n",
      "epoch:  298  loss:  99.29524993896484\n",
      "epoch:  299  loss:  99.35002136230469\n",
      "epoch:  300  loss:  99.3050537109375\n",
      "epoch:  301  loss:  99.27436828613281\n",
      "epoch:  302  loss:  99.28079223632812\n",
      "epoch:  303  loss:  99.28761291503906\n",
      "epoch:  304  loss:  99.26564025878906\n",
      "epoch:  305  loss:  99.26374816894531\n",
      "epoch:  306  loss:  99.28519439697266\n",
      "epoch:  307  loss:  99.27812194824219\n",
      "epoch:  308  loss:  99.25357055664062\n",
      "epoch:  309  loss:  99.21356964111328\n",
      "epoch:  310  loss:  99.2548828125\n",
      "epoch:  311  loss:  99.25652313232422\n",
      "epoch:  312  loss:  99.1963119506836\n",
      "epoch:  313  loss:  99.1780014038086\n",
      "epoch:  314  loss:  99.1758041381836\n",
      "epoch:  315  loss:  99.21160888671875\n",
      "epoch:  316  loss:  99.18329620361328\n",
      "epoch:  317  loss:  99.16777038574219\n",
      "epoch:  318  loss:  99.1788101196289\n",
      "epoch:  319  loss:  99.1645736694336\n",
      "epoch:  320  loss:  99.18803405761719\n",
      "epoch:  321  loss:  99.14836883544922\n",
      "epoch:  322  loss:  99.14802551269531\n",
      "epoch:  323  loss:  99.14376068115234\n",
      "epoch:  324  loss:  99.1259536743164\n",
      "epoch:  325  loss:  99.1278076171875\n",
      "epoch:  326  loss:  99.1365966796875\n",
      "epoch:  327  loss:  99.13563537597656\n",
      "epoch:  328  loss:  99.09861755371094\n",
      "epoch:  329  loss:  99.09345245361328\n",
      "epoch:  330  loss:  99.10452270507812\n",
      "epoch:  331  loss:  99.07594299316406\n",
      "epoch:  332  loss:  99.05155944824219\n",
      "epoch:  333  loss:  99.09810638427734\n",
      "epoch:  334  loss:  99.11213684082031\n",
      "epoch:  335  loss:  99.091064453125\n",
      "epoch:  336  loss:  99.08219909667969\n",
      "epoch:  337  loss:  99.04618835449219\n",
      "epoch:  338  loss:  99.04387664794922\n",
      "epoch:  339  loss:  99.04154205322266\n",
      "epoch:  340  loss:  99.02392578125\n",
      "epoch:  341  loss:  99.03726959228516\n",
      "epoch:  342  loss:  98.99766540527344\n",
      "epoch:  343  loss:  99.01799774169922\n",
      "epoch:  344  loss:  99.02129364013672\n",
      "epoch:  345  loss:  98.98198699951172\n",
      "epoch:  346  loss:  98.99931335449219\n",
      "epoch:  347  loss:  98.96202087402344\n",
      "epoch:  348  loss:  99.01580047607422\n",
      "epoch:  349  loss:  98.99687957763672\n",
      "epoch:  350  loss:  98.99142456054688\n",
      "epoch:  351  loss:  98.96244049072266\n",
      "epoch:  352  loss:  98.9517593383789\n",
      "epoch:  353  loss:  98.95494842529297\n",
      "epoch:  354  loss:  98.95196533203125\n",
      "epoch:  355  loss:  98.9406509399414\n",
      "epoch:  356  loss:  98.93042755126953\n",
      "epoch:  357  loss:  98.90188598632812\n",
      "epoch:  358  loss:  98.88760375976562\n",
      "epoch:  359  loss:  98.91168975830078\n",
      "epoch:  360  loss:  98.90093994140625\n",
      "epoch:  361  loss:  98.89251708984375\n",
      "epoch:  362  loss:  98.88169860839844\n",
      "epoch:  363  loss:  98.89664459228516\n",
      "epoch:  364  loss:  98.86359405517578\n",
      "epoch:  365  loss:  98.89630889892578\n",
      "epoch:  366  loss:  98.84440612792969\n",
      "epoch:  367  loss:  98.9097900390625\n",
      "epoch:  368  loss:  98.8357162475586\n",
      "epoch:  369  loss:  98.83741760253906\n",
      "epoch:  370  loss:  98.876953125\n",
      "epoch:  371  loss:  98.83058166503906\n",
      "epoch:  372  loss:  98.83641815185547\n",
      "epoch:  373  loss:  98.812255859375\n",
      "epoch:  374  loss:  98.83141326904297\n",
      "epoch:  375  loss:  98.79700469970703\n",
      "epoch:  376  loss:  98.82725524902344\n",
      "epoch:  377  loss:  98.81300354003906\n",
      "epoch:  378  loss:  98.78763580322266\n",
      "epoch:  379  loss:  98.7989501953125\n",
      "epoch:  380  loss:  98.78611755371094\n",
      "epoch:  381  loss:  98.78937530517578\n",
      "epoch:  382  loss:  98.7676010131836\n",
      "epoch:  383  loss:  98.76127624511719\n",
      "epoch:  384  loss:  98.76982116699219\n",
      "epoch:  385  loss:  98.75016784667969\n",
      "epoch:  386  loss:  98.7287368774414\n",
      "epoch:  387  loss:  98.74703979492188\n",
      "epoch:  388  loss:  98.71208190917969\n",
      "epoch:  389  loss:  98.73355865478516\n",
      "epoch:  390  loss:  98.75869750976562\n",
      "epoch:  391  loss:  98.69212341308594\n",
      "epoch:  392  loss:  98.69751739501953\n",
      "epoch:  393  loss:  98.74027252197266\n",
      "epoch:  394  loss:  98.69771575927734\n",
      "epoch:  395  loss:  98.68597412109375\n",
      "epoch:  396  loss:  98.71524810791016\n",
      "epoch:  397  loss:  98.68169403076172\n",
      "epoch:  398  loss:  98.68756103515625\n",
      "epoch:  399  loss:  98.6790542602539\n",
      "epoch:  400  loss:  98.66801452636719\n",
      "epoch:  401  loss:  98.6638412475586\n",
      "epoch:  402  loss:  98.67070007324219\n",
      "epoch:  403  loss:  98.66153717041016\n",
      "epoch:  404  loss:  98.65556335449219\n",
      "epoch:  405  loss:  98.64754486083984\n",
      "epoch:  406  loss:  98.64956665039062\n",
      "epoch:  407  loss:  98.63816833496094\n",
      "epoch:  408  loss:  98.6310043334961\n",
      "epoch:  409  loss:  98.64152526855469\n",
      "epoch:  410  loss:  98.62310028076172\n",
      "epoch:  411  loss:  98.6153793334961\n",
      "epoch:  412  loss:  98.583740234375\n",
      "epoch:  413  loss:  98.59503936767578\n",
      "epoch:  414  loss:  98.60292053222656\n",
      "epoch:  415  loss:  98.59111785888672\n",
      "epoch:  416  loss:  98.57093048095703\n",
      "epoch:  417  loss:  98.57456970214844\n",
      "epoch:  418  loss:  98.5615234375\n",
      "epoch:  419  loss:  98.55875396728516\n",
      "epoch:  420  loss:  98.55879974365234\n",
      "epoch:  421  loss:  98.59716796875\n",
      "epoch:  422  loss:  98.54132080078125\n",
      "epoch:  423  loss:  98.53508758544922\n",
      "epoch:  424  loss:  98.5474853515625\n",
      "epoch:  425  loss:  98.5497817993164\n",
      "epoch:  426  loss:  98.54573059082031\n",
      "epoch:  427  loss:  98.54065704345703\n",
      "epoch:  428  loss:  98.51850128173828\n",
      "epoch:  429  loss:  98.52481842041016\n",
      "epoch:  430  loss:  98.51314544677734\n",
      "epoch:  431  loss:  98.49609375\n",
      "epoch:  432  loss:  98.50711822509766\n",
      "epoch:  433  loss:  98.4892807006836\n",
      "epoch:  434  loss:  98.49737548828125\n",
      "epoch:  435  loss:  98.48615264892578\n",
      "epoch:  436  loss:  98.47547912597656\n",
      "epoch:  437  loss:  98.4818344116211\n",
      "epoch:  438  loss:  98.49407958984375\n",
      "epoch:  439  loss:  98.46287536621094\n",
      "epoch:  440  loss:  98.47933197021484\n",
      "epoch:  441  loss:  98.4478988647461\n",
      "epoch:  442  loss:  98.4515151977539\n",
      "epoch:  443  loss:  98.44422149658203\n",
      "epoch:  444  loss:  98.4567642211914\n",
      "epoch:  445  loss:  98.44308471679688\n",
      "epoch:  446  loss:  98.4307861328125\n",
      "epoch:  447  loss:  98.42485046386719\n",
      "epoch:  448  loss:  98.42457580566406\n",
      "epoch:  449  loss:  98.44032287597656\n",
      "epoch:  450  loss:  98.41460418701172\n",
      "epoch:  451  loss:  98.41080474853516\n",
      "epoch:  452  loss:  98.40778350830078\n",
      "epoch:  453  loss:  98.39490509033203\n",
      "epoch:  454  loss:  98.41658020019531\n",
      "epoch:  455  loss:  98.39232635498047\n",
      "epoch:  456  loss:  98.39290618896484\n",
      "epoch:  457  loss:  98.39257049560547\n",
      "epoch:  458  loss:  98.38807678222656\n",
      "epoch:  459  loss:  98.38265228271484\n",
      "epoch:  460  loss:  98.38652801513672\n",
      "epoch:  461  loss:  98.37884521484375\n",
      "epoch:  462  loss:  98.38854217529297\n",
      "epoch:  463  loss:  98.36973571777344\n",
      "epoch:  464  loss:  98.37127685546875\n",
      "epoch:  465  loss:  98.35562896728516\n",
      "epoch:  466  loss:  98.35432434082031\n",
      "epoch:  467  loss:  98.36100769042969\n",
      "epoch:  468  loss:  98.35254669189453\n",
      "epoch:  469  loss:  98.35771942138672\n",
      "epoch:  470  loss:  98.35342407226562\n",
      "epoch:  471  loss:  98.34358215332031\n",
      "epoch:  472  loss:  98.35823822021484\n",
      "epoch:  473  loss:  98.345458984375\n",
      "epoch:  474  loss:  98.33354949951172\n",
      "epoch:  475  loss:  98.32986450195312\n",
      "epoch:  476  loss:  98.31842803955078\n",
      "epoch:  477  loss:  98.3356704711914\n",
      "epoch:  478  loss:  98.32241821289062\n",
      "epoch:  479  loss:  98.31700897216797\n",
      "epoch:  480  loss:  98.30442810058594\n",
      "epoch:  481  loss:  98.30233001708984\n",
      "epoch:  482  loss:  98.30098724365234\n",
      "epoch:  483  loss:  98.3096923828125\n",
      "epoch:  484  loss:  98.29914855957031\n",
      "epoch:  485  loss:  98.28518676757812\n",
      "epoch:  486  loss:  98.28645324707031\n",
      "epoch:  487  loss:  98.28435516357422\n",
      "epoch:  488  loss:  98.28656005859375\n",
      "epoch:  489  loss:  98.2787094116211\n",
      "epoch:  490  loss:  98.28433990478516\n",
      "epoch:  491  loss:  98.27327728271484\n",
      "epoch:  492  loss:  98.28003692626953\n",
      "epoch:  493  loss:  98.27310180664062\n",
      "epoch:  494  loss:  98.26530456542969\n",
      "epoch:  495  loss:  98.26024627685547\n",
      "epoch:  496  loss:  98.25469970703125\n",
      "epoch:  497  loss:  98.24737548828125\n",
      "epoch:  498  loss:  98.24028778076172\n",
      "epoch:  499  loss:  98.23005676269531\n",
      "epoch:  500  loss:  98.24091339111328\n",
      "epoch:  501  loss:  98.24795532226562\n",
      "epoch:  502  loss:  98.2360610961914\n",
      "epoch:  503  loss:  98.2352066040039\n",
      "epoch:  504  loss:  98.23817443847656\n",
      "epoch:  505  loss:  98.21562194824219\n",
      "epoch:  506  loss:  98.2216567993164\n",
      "epoch:  507  loss:  98.2205581665039\n",
      "epoch:  508  loss:  98.22222137451172\n",
      "epoch:  509  loss:  98.2267837524414\n",
      "epoch:  510  loss:  98.21395111083984\n",
      "epoch:  511  loss:  98.20217895507812\n",
      "epoch:  512  loss:  98.21520233154297\n",
      "epoch:  513  loss:  98.198486328125\n",
      "epoch:  514  loss:  98.20358276367188\n",
      "epoch:  515  loss:  98.2047119140625\n",
      "epoch:  516  loss:  98.2044677734375\n",
      "epoch:  517  loss:  98.1926040649414\n",
      "epoch:  518  loss:  98.1982650756836\n",
      "epoch:  519  loss:  98.18416595458984\n",
      "epoch:  520  loss:  98.20043182373047\n",
      "epoch:  521  loss:  98.1893081665039\n",
      "epoch:  522  loss:  98.18450164794922\n",
      "epoch:  523  loss:  98.17951202392578\n",
      "epoch:  524  loss:  98.17630004882812\n",
      "epoch:  525  loss:  98.17032623291016\n",
      "epoch:  526  loss:  98.168701171875\n",
      "epoch:  527  loss:  98.1634292602539\n",
      "epoch:  528  loss:  98.1718978881836\n",
      "epoch:  529  loss:  98.15869903564453\n",
      "epoch:  530  loss:  98.15206146240234\n",
      "epoch:  531  loss:  98.15312957763672\n",
      "epoch:  532  loss:  98.15192413330078\n",
      "epoch:  533  loss:  98.155029296875\n",
      "epoch:  534  loss:  98.14664459228516\n",
      "epoch:  535  loss:  98.14993286132812\n",
      "epoch:  536  loss:  98.1447525024414\n",
      "epoch:  537  loss:  98.14620208740234\n",
      "epoch:  538  loss:  98.14152526855469\n",
      "epoch:  539  loss:  98.13472747802734\n",
      "epoch:  540  loss:  98.13957214355469\n",
      "epoch:  541  loss:  98.13590240478516\n",
      "epoch:  542  loss:  98.12889862060547\n",
      "epoch:  543  loss:  98.13088989257812\n",
      "epoch:  544  loss:  98.12743377685547\n",
      "epoch:  545  loss:  98.12574005126953\n",
      "epoch:  546  loss:  98.13157653808594\n",
      "epoch:  547  loss:  98.12085723876953\n",
      "epoch:  548  loss:  98.12186431884766\n",
      "epoch:  549  loss:  98.11822509765625\n",
      "epoch:  550  loss:  98.12073516845703\n",
      "epoch:  551  loss:  98.10932922363281\n",
      "epoch:  552  loss:  98.10859680175781\n",
      "epoch:  553  loss:  98.1094741821289\n",
      "epoch:  554  loss:  98.10541534423828\n",
      "epoch:  555  loss:  98.10846710205078\n",
      "epoch:  556  loss:  98.10877990722656\n",
      "epoch:  557  loss:  98.09765625\n",
      "epoch:  558  loss:  98.09479522705078\n",
      "epoch:  559  loss:  98.10205841064453\n",
      "epoch:  560  loss:  98.09808349609375\n",
      "epoch:  561  loss:  98.09736633300781\n",
      "epoch:  562  loss:  98.0889892578125\n",
      "epoch:  563  loss:  98.09376525878906\n",
      "epoch:  564  loss:  98.08714294433594\n",
      "epoch:  565  loss:  98.09136199951172\n",
      "epoch:  566  loss:  98.0798568725586\n",
      "epoch:  567  loss:  98.08598327636719\n",
      "epoch:  568  loss:  98.08588409423828\n",
      "epoch:  569  loss:  98.08429718017578\n",
      "epoch:  570  loss:  98.07930755615234\n",
      "epoch:  571  loss:  98.0746078491211\n",
      "epoch:  572  loss:  98.07459259033203\n",
      "epoch:  573  loss:  98.07332611083984\n",
      "epoch:  574  loss:  98.0670394897461\n",
      "epoch:  575  loss:  98.06551361083984\n",
      "epoch:  576  loss:  98.06157684326172\n",
      "epoch:  577  loss:  98.06315612792969\n",
      "epoch:  578  loss:  98.06452178955078\n",
      "epoch:  579  loss:  98.0631103515625\n",
      "epoch:  580  loss:  98.0633316040039\n",
      "epoch:  581  loss:  98.05752563476562\n",
      "epoch:  582  loss:  98.05730438232422\n",
      "epoch:  583  loss:  98.05496215820312\n",
      "epoch:  584  loss:  98.05955505371094\n",
      "epoch:  585  loss:  98.05875396728516\n",
      "epoch:  586  loss:  98.05850982666016\n",
      "epoch:  587  loss:  98.04991912841797\n",
      "epoch:  588  loss:  98.04826354980469\n",
      "epoch:  589  loss:  98.04643249511719\n",
      "epoch:  590  loss:  98.04400634765625\n",
      "epoch:  591  loss:  98.04158782958984\n",
      "epoch:  592  loss:  98.0451431274414\n",
      "epoch:  593  loss:  98.04833984375\n",
      "epoch:  594  loss:  98.0422592163086\n",
      "epoch:  595  loss:  98.03688049316406\n",
      "epoch:  596  loss:  98.0401382446289\n",
      "epoch:  597  loss:  98.03680419921875\n",
      "epoch:  598  loss:  98.03541564941406\n",
      "epoch:  599  loss:  98.03131103515625\n"
     ]
    }
   ],
   "source": [
    "for epoch in range(600):\n",
    "      # Zero the gradients\n",
    "    optimizer.zero_grad()\n",
    "    # Forward Propagation\n",
    "    y_pred = model(X)\n",
    "    # Compute and print loss\n",
    "    loss = criterion(y_pred, y)\n",
    "    print('epoch: ', epoch,' loss: ', loss.item())\n",
    "\n",
    "    \n",
    "    # perform a backward pass (backpropagation)\n",
    "    loss.backward()\n",
    "    \n",
    "    # Update the parameters\n",
    "    optimizer.step()"
   ]
  },
  {
   "cell_type": "code",
   "execution_count": null,
   "metadata": {
    "colab": {},
    "colab_type": "code",
    "id": "jQmBcQM-VxCm"
   },
   "outputs": [],
   "source": [
    "X_test = x_val\n",
    "X_test = torch.from_numpy(X_test)\n",
    "X_test = X_test.type(torch.FloatTensor)"
   ]
  },
  {
   "cell_type": "code",
   "execution_count": null,
   "metadata": {
    "colab": {},
    "colab_type": "code",
    "id": "WO5sKn2vVyb3"
   },
   "outputs": [],
   "source": [
    "y_test_p = model(X_test)\n",
    "y_test_p = y_test_p.detach().numpy()\n",
    "y_test_p = y_test_p.reshape(-1)"
   ]
  },
  {
   "cell_type": "code",
   "execution_count": 264,
   "metadata": {
    "colab": {
     "base_uri": "https://localhost:8080/",
     "height": 163
    },
    "colab_type": "code",
    "id": "Py-zBtX7VyfX",
    "outputId": "4e7d6424-3903-4cb7-bd54-07525c6e5717"
   },
   "outputs": [
    {
     "data": {
      "text/html": [
       "<div>\n",
       "<style scoped>\n",
       "    .dataframe tbody tr th:only-of-type {\n",
       "        vertical-align: middle;\n",
       "    }\n",
       "\n",
       "    .dataframe tbody tr th {\n",
       "        vertical-align: top;\n",
       "    }\n",
       "\n",
       "    .dataframe thead th {\n",
       "        text-align: right;\n",
       "    }\n",
       "</style>\n",
       "<table border=\"1\" class=\"dataframe\">\n",
       "  <thead>\n",
       "    <tr style=\"text-align: right;\">\n",
       "      <th></th>\n",
       "      <th>0</th>\n",
       "      <th>1</th>\n",
       "      <th>2</th>\n",
       "      <th>3</th>\n",
       "      <th>4</th>\n",
       "      <th>5</th>\n",
       "      <th>6</th>\n",
       "      <th>7</th>\n",
       "      <th>8</th>\n",
       "      <th>9</th>\n",
       "      <th>10</th>\n",
       "      <th>11</th>\n",
       "      <th>12</th>\n",
       "      <th>13</th>\n",
       "      <th>14</th>\n",
       "      <th>15</th>\n",
       "      <th>16</th>\n",
       "      <th>17</th>\n",
       "      <th>18</th>\n",
       "      <th>19</th>\n",
       "      <th>20</th>\n",
       "      <th>21</th>\n",
       "      <th>22</th>\n",
       "      <th>23</th>\n",
       "      <th>24</th>\n",
       "      <th>25</th>\n",
       "      <th>26</th>\n",
       "      <th>27</th>\n",
       "      <th>28</th>\n",
       "      <th>29</th>\n",
       "      <th>30</th>\n",
       "      <th>31</th>\n",
       "      <th>32</th>\n",
       "      <th>33</th>\n",
       "      <th>34</th>\n",
       "      <th>35</th>\n",
       "      <th>36</th>\n",
       "      <th>37</th>\n",
       "      <th>38</th>\n",
       "      <th>39</th>\n",
       "      <th>40</th>\n",
       "      <th>41</th>\n",
       "      <th>42</th>\n",
       "      <th>43</th>\n",
       "      <th>44</th>\n",
       "      <th>45</th>\n",
       "      <th>46</th>\n",
       "      <th>47</th>\n",
       "      <th>48</th>\n",
       "      <th>49</th>\n",
       "      <th>50</th>\n",
       "      <th>51</th>\n",
       "      <th>52</th>\n",
       "      <th>53</th>\n",
       "      <th>54</th>\n",
       "      <th>55</th>\n",
       "      <th>56</th>\n",
       "      <th>57</th>\n",
       "      <th>58</th>\n",
       "      <th>59</th>\n",
       "    </tr>\n",
       "  </thead>\n",
       "  <tbody>\n",
       "    <tr>\n",
       "      <th>real_fare</th>\n",
       "      <td>11.2</td>\n",
       "      <td>11.29</td>\n",
       "      <td>11.39</td>\n",
       "      <td>11.21</td>\n",
       "      <td>10.78</td>\n",
       "      <td>11.57</td>\n",
       "      <td>11.23</td>\n",
       "      <td>11.29</td>\n",
       "      <td>11.34</td>\n",
       "      <td>11.18</td>\n",
       "      <td>11.49</td>\n",
       "      <td>11.18</td>\n",
       "      <td>11.36</td>\n",
       "      <td>11.18</td>\n",
       "      <td>11.36</td>\n",
       "      <td>11.360000</td>\n",
       "      <td>11.3</td>\n",
       "      <td>11.5</td>\n",
       "      <td>11.28</td>\n",
       "      <td>11.33</td>\n",
       "      <td>11.43</td>\n",
       "      <td>10.93</td>\n",
       "      <td>11.4</td>\n",
       "      <td>11.37</td>\n",
       "      <td>11.320000</td>\n",
       "      <td>11.79</td>\n",
       "      <td>11.82</td>\n",
       "      <td>11.23</td>\n",
       "      <td>11.76</td>\n",
       "      <td>11.04</td>\n",
       "      <td>10.99</td>\n",
       "      <td>11.59</td>\n",
       "      <td>11.56</td>\n",
       "      <td>10.83</td>\n",
       "      <td>11.21</td>\n",
       "      <td>11.27</td>\n",
       "      <td>11.59</td>\n",
       "      <td>11.280000</td>\n",
       "      <td>11.06</td>\n",
       "      <td>11.32</td>\n",
       "      <td>11.28</td>\n",
       "      <td>11.28</td>\n",
       "      <td>11.13</td>\n",
       "      <td>11.68</td>\n",
       "      <td>11.81</td>\n",
       "      <td>11.56</td>\n",
       "      <td>11.66</td>\n",
       "      <td>11.32</td>\n",
       "      <td>11.55</td>\n",
       "      <td>11.49</td>\n",
       "      <td>11.58</td>\n",
       "      <td>11.24</td>\n",
       "      <td>11.23</td>\n",
       "      <td>11.6</td>\n",
       "      <td>11.56</td>\n",
       "      <td>10.99</td>\n",
       "      <td>10.87</td>\n",
       "      <td>10.8</td>\n",
       "      <td>11.07</td>\n",
       "      <td>11.29</td>\n",
       "    </tr>\n",
       "    <tr>\n",
       "      <th>pred_fare</th>\n",
       "      <td>9.5</td>\n",
       "      <td>6.50</td>\n",
       "      <td>6.50</td>\n",
       "      <td>10.50</td>\n",
       "      <td>7.30</td>\n",
       "      <td>12.10</td>\n",
       "      <td>8.50</td>\n",
       "      <td>10.50</td>\n",
       "      <td>3.00</td>\n",
       "      <td>14.70</td>\n",
       "      <td>7.70</td>\n",
       "      <td>8.50</td>\n",
       "      <td>8.90</td>\n",
       "      <td>12.00</td>\n",
       "      <td>3.30</td>\n",
       "      <td>85.500000</td>\n",
       "      <td>3.7</td>\n",
       "      <td>10.5</td>\n",
       "      <td>11.70</td>\n",
       "      <td>4.10</td>\n",
       "      <td>6.50</td>\n",
       "      <td>13.70</td>\n",
       "      <td>10.5</td>\n",
       "      <td>10.10</td>\n",
       "      <td>36.099998</td>\n",
       "      <td>20.50</td>\n",
       "      <td>13.00</td>\n",
       "      <td>9.50</td>\n",
       "      <td>15.70</td>\n",
       "      <td>6.50</td>\n",
       "      <td>9.50</td>\n",
       "      <td>8.00</td>\n",
       "      <td>11.30</td>\n",
       "      <td>9.00</td>\n",
       "      <td>5.70</td>\n",
       "      <td>6.10</td>\n",
       "      <td>5.00</td>\n",
       "      <td>19.299999</td>\n",
       "      <td>6.50</td>\n",
       "      <td>7.30</td>\n",
       "      <td>5.30</td>\n",
       "      <td>9.30</td>\n",
       "      <td>6.50</td>\n",
       "      <td>7.50</td>\n",
       "      <td>7.00</td>\n",
       "      <td>4.50</td>\n",
       "      <td>13.50</td>\n",
       "      <td>7.50</td>\n",
       "      <td>12.10</td>\n",
       "      <td>5.70</td>\n",
       "      <td>5.00</td>\n",
       "      <td>7.00</td>\n",
       "      <td>7.50</td>\n",
       "      <td>5.5</td>\n",
       "      <td>8.50</td>\n",
       "      <td>6.10</td>\n",
       "      <td>12.50</td>\n",
       "      <td>9.5</td>\n",
       "      <td>13.30</td>\n",
       "      <td>8.50</td>\n",
       "    </tr>\n",
       "    <tr>\n",
       "      <th>error</th>\n",
       "      <td>1.7</td>\n",
       "      <td>4.79</td>\n",
       "      <td>4.89</td>\n",
       "      <td>0.71</td>\n",
       "      <td>3.48</td>\n",
       "      <td>-0.53</td>\n",
       "      <td>2.73</td>\n",
       "      <td>0.79</td>\n",
       "      <td>8.34</td>\n",
       "      <td>-3.52</td>\n",
       "      <td>3.79</td>\n",
       "      <td>2.68</td>\n",
       "      <td>2.46</td>\n",
       "      <td>-0.82</td>\n",
       "      <td>8.06</td>\n",
       "      <td>-74.139999</td>\n",
       "      <td>7.6</td>\n",
       "      <td>1.0</td>\n",
       "      <td>-0.42</td>\n",
       "      <td>7.23</td>\n",
       "      <td>4.93</td>\n",
       "      <td>-2.77</td>\n",
       "      <td>0.9</td>\n",
       "      <td>1.27</td>\n",
       "      <td>-24.780001</td>\n",
       "      <td>-8.71</td>\n",
       "      <td>-1.18</td>\n",
       "      <td>1.73</td>\n",
       "      <td>-3.94</td>\n",
       "      <td>4.54</td>\n",
       "      <td>1.49</td>\n",
       "      <td>3.59</td>\n",
       "      <td>0.26</td>\n",
       "      <td>1.83</td>\n",
       "      <td>5.51</td>\n",
       "      <td>5.17</td>\n",
       "      <td>6.59</td>\n",
       "      <td>-8.020000</td>\n",
       "      <td>4.56</td>\n",
       "      <td>4.02</td>\n",
       "      <td>5.98</td>\n",
       "      <td>1.98</td>\n",
       "      <td>4.63</td>\n",
       "      <td>4.18</td>\n",
       "      <td>4.81</td>\n",
       "      <td>7.06</td>\n",
       "      <td>-1.84</td>\n",
       "      <td>3.82</td>\n",
       "      <td>-0.55</td>\n",
       "      <td>5.79</td>\n",
       "      <td>6.58</td>\n",
       "      <td>4.24</td>\n",
       "      <td>3.73</td>\n",
       "      <td>6.1</td>\n",
       "      <td>3.06</td>\n",
       "      <td>4.89</td>\n",
       "      <td>-1.63</td>\n",
       "      <td>1.3</td>\n",
       "      <td>-2.23</td>\n",
       "      <td>2.79</td>\n",
       "    </tr>\n",
       "  </tbody>\n",
       "</table>\n",
       "</div>"
      ],
      "text/plain": [
       "             0      1      2      3      4   ...     55     56    57     58     59\n",
       "real_fare  11.2  11.29  11.39  11.21  10.78  ...  10.99  10.87  10.8  11.07  11.29\n",
       "pred_fare   9.5   6.50   6.50  10.50   7.30  ...   6.10  12.50   9.5  13.30   8.50\n",
       "error       1.7   4.79   4.89   0.71   3.48  ...   4.89  -1.63   1.3  -2.23   2.79\n",
       "\n",
       "[3 rows x 60 columns]"
      ]
     },
     "execution_count": 264,
     "metadata": {
      "tags": []
     },
     "output_type": "execute_result"
    }
   ],
   "source": [
    "n = 60\n",
    "results4 = pd.DataFrame({'real_fare': y_test_p, 'pred_fare': y_val})\n",
    "results4['error'] = y_test_p - y_val\n",
    "results4.head(n).round(2).T\n"
   ]
  },
  {
   "cell_type": "code",
   "execution_count": 266,
   "metadata": {
    "colab": {
     "base_uri": "https://localhost:8080/",
     "height": 34
    },
    "colab_type": "code",
    "id": "PKRsOh-8V424",
    "outputId": "3492b616-c109-4ee4-c83c-5d90ff124ed7"
   },
   "outputs": [
    {
     "name": "stdout",
     "output_type": "stream",
     "text": [
      "RMSE for Neural Network -pytorch 8.813696\n"
     ]
    }
   ],
   "source": [
    "def rmse(y_pred, targ):\n",
    "    pct_var = (targ - y_pred)\n",
    "    return np.sqrt((pct_var**2).mean())\n",
    "  \n",
    "rmse4 =rmse(y_test_p,y_val)\n",
    "print(\"RMSE for Neural Network -pytorch\",rmse4)"
   ]
  },
  {
   "cell_type": "code",
   "execution_count": null,
   "metadata": {
    "colab": {},
    "colab_type": "code",
    "id": "ve1_hoOvV48s"
   },
   "outputs": [],
   "source": []
  }
 ],
 "metadata": {
  "accelerator": "GPU",
  "colab": {
   "collapsed_sections": [
    "Euo9m9lQ_HgX",
    "IrPMgatm_Hg1",
    "FRBLFu4v_HhE",
    "0FmrzXVG_HhV"
   ],
   "name": "v1-Jessenia_Gonzalez_EP.ipynb",
   "provenance": []
  },
  "kernelspec": {
   "display_name": "Python 3",
   "language": "python",
   "name": "python3"
  },
  "language_info": {
   "codemirror_mode": {
    "name": "ipython",
    "version": 3
   },
   "file_extension": ".py",
   "mimetype": "text/x-python",
   "name": "python",
   "nbconvert_exporter": "python",
   "pygments_lexer": "ipython3",
   "version": "3.6.9"
  }
 },
 "nbformat": 4,
 "nbformat_minor": 4
}
